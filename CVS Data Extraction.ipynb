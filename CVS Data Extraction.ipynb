{
 "cells": [
  {
   "cell_type": "markdown",
   "metadata": {},
   "source": [
    "# Imoprt CVS Information Page"
   ]
  },
  {
   "cell_type": "markdown",
   "metadata": {},
   "source": [
    "Purpose of this Project: Extract Vaccine appointment info from the CVS. CVS data team has provide the links of appointment, slot and schedule. For more information please refer to https://developer.cvshealth.com/covid19/cdc/bulk-publish\n",
    "\n",
    "Key Point:\n",
    "Json File\n",
    "Ndjson File\n"
   ]
  },
  {
   "cell_type": "code",
   "execution_count": 191,
   "metadata": {},
   "outputs": [],
   "source": [
    "import requests\n",
    "import json\n",
    "import pandas as pd\n",
    "import ndjson  ## Location Schedule and Slot are the Ndjson format\n",
    "from datetime import datetime"
   ]
  },
  {
   "cell_type": "code",
   "execution_count": 192,
   "metadata": {},
   "outputs": [],
   "source": [
    "re=requests.get(\"https://www.cvs.com/immunizations/inventory/data/$bulk-publish\")"
   ]
  },
  {
   "cell_type": "code",
   "execution_count": 193,
   "metadata": {},
   "outputs": [
    {
     "data": {
      "text/plain": [
       "200"
      ]
     },
     "execution_count": 193,
     "metadata": {},
     "output_type": "execute_result"
    }
   ],
   "source": [
    "# Check the status\n",
    "re.status_code"
   ]
  },
  {
   "cell_type": "code",
   "execution_count": 194,
   "metadata": {},
   "outputs": [
    {
     "data": {
      "text/plain": [
       "{'transactionTime': '2021-05-14T20:02:01.534Z',\n",
       " 'request': 'https://www.cvs.com/immunizations/inventory/data/$bulk-publish',\n",
       " 'output': [{'type': 'Location',\n",
       "   'url': 'https://www.cvs.com/immunizations/inventory/data/location_file_05142021130201.ndjson'},\n",
       "  {'type': 'Schedule',\n",
       "   'url': 'https://www.cvs.com/immunizations/inventory/data/schedule_file_05142021130201.ndjson'},\n",
       "  {'type': 'Slot',\n",
       "   'url': 'https://www.cvs.com/immunizations/inventory/data/slot_file_05142021130201.ndjson'}],\n",
       " 'error': []}"
      ]
     },
     "execution_count": 194,
     "metadata": {},
     "output_type": "execute_result"
    }
   ],
   "source": [
    "re.json()"
   ]
  },
  {
   "cell_type": "code",
   "execution_count": 195,
   "metadata": {},
   "outputs": [
    {
     "data": {
      "text/plain": [
       "[{'type': 'Location',\n",
       "  'url': 'https://www.cvs.com/immunizations/inventory/data/location_file_05142021130201.ndjson'},\n",
       " {'type': 'Schedule',\n",
       "  'url': 'https://www.cvs.com/immunizations/inventory/data/schedule_file_05142021130201.ndjson'},\n",
       " {'type': 'Slot',\n",
       "  'url': 'https://www.cvs.com/immunizations/inventory/data/slot_file_05142021130201.ndjson'}]"
      ]
     },
     "execution_count": 195,
     "metadata": {},
     "output_type": "execute_result"
    }
   ],
   "source": [
    "re.json()['output']"
   ]
  },
  {
   "cell_type": "code",
   "execution_count": 196,
   "metadata": {},
   "outputs": [],
   "source": [
    "Type=[]\n",
    "Url=[]\n",
    "for i in re.json()['output']:\n",
    "    Type.append(i['type'])\n",
    "    Url.append(i['url'])"
   ]
  },
  {
   "cell_type": "code",
   "execution_count": 197,
   "metadata": {},
   "outputs": [
    {
     "data": {
      "text/plain": [
       "['Location', 'Schedule', 'Slot']"
      ]
     },
     "execution_count": 197,
     "metadata": {},
     "output_type": "execute_result"
    }
   ],
   "source": [
    "Type"
   ]
  },
  {
   "cell_type": "code",
   "execution_count": 198,
   "metadata": {},
   "outputs": [
    {
     "data": {
      "text/plain": [
       "['https://www.cvs.com/immunizations/inventory/data/location_file_05142021130201.ndjson',\n",
       " 'https://www.cvs.com/immunizations/inventory/data/schedule_file_05142021130201.ndjson',\n",
       " 'https://www.cvs.com/immunizations/inventory/data/slot_file_05142021130201.ndjson']"
      ]
     },
     "execution_count": 198,
     "metadata": {},
     "output_type": "execute_result"
    }
   ],
   "source": [
    "Url"
   ]
  },
  {
   "cell_type": "code",
   "execution_count": 199,
   "metadata": {},
   "outputs": [],
   "source": [
    "df=pd.DataFrame(Url,columns=['Url'],index=Type)\n",
    "#set Type as index"
   ]
  },
  {
   "cell_type": "code",
   "execution_count": 200,
   "metadata": {},
   "outputs": [
    {
     "data": {
      "text/plain": [
       "'https://www.cvs.com/immunizations/inventory/data/location_file_05142021130201.ndjson'"
      ]
     },
     "execution_count": 200,
     "metadata": {},
     "output_type": "execute_result"
    }
   ],
   "source": [
    "df.loc['Location'][\"Url\"]  # becasue the type is Index"
   ]
  },
  {
   "cell_type": "code",
   "execution_count": 201,
   "metadata": {},
   "outputs": [
    {
     "data": {
      "text/plain": [
       "'https://www.cvs.com/immunizations/inventory/data/schedule_file_05142021130201.ndjson'"
      ]
     },
     "execution_count": 201,
     "metadata": {},
     "output_type": "execute_result"
    }
   ],
   "source": [
    "df.loc['Schedule'][\"Url\"]"
   ]
  },
  {
   "cell_type": "code",
   "execution_count": 202,
   "metadata": {},
   "outputs": [
    {
     "data": {
      "text/plain": [
       "'https://www.cvs.com/immunizations/inventory/data/slot_file_05142021130201.ndjson'"
      ]
     },
     "execution_count": 202,
     "metadata": {},
     "output_type": "execute_result"
    }
   ],
   "source": [
    "df.loc['Slot']['Url']"
   ]
  },
  {
   "cell_type": "code",
   "execution_count": 203,
   "metadata": {},
   "outputs": [
    {
     "data": {
      "text/plain": [
       "<Response [200]>"
      ]
     },
     "execution_count": 203,
     "metadata": {},
     "output_type": "execute_result"
    }
   ],
   "source": [
    "requests.get(df.loc['Location'][\"Url\"])"
   ]
  },
  {
   "cell_type": "markdown",
   "metadata": {},
   "source": [
    "# Import"
   ]
  },
  {
   "cell_type": "code",
   "execution_count": 204,
   "metadata": {},
   "outputs": [],
   "source": [
    "Location_re=requests.get(df.loc['Location'][\"Url\"])\n",
    "# there are ndjson file\n",
    "#Location_re.json()     will return no value, so I used .text without .json()\n",
    "Schedule_re=requests.get(df.loc['Schedule'][\"Url\"])\n",
    "Slot_re=requests.get(df.loc['Slot'][\"Url\"])"
   ]
  },
  {
   "cell_type": "code",
   "execution_count": 286,
   "metadata": {},
   "outputs": [],
   "source": [
    "#Location_re.text"
   ]
  },
  {
   "cell_type": "markdown",
   "metadata": {},
   "source": [
    "## Convert String to Ndjson Format"
   ]
  },
  {
   "cell_type": "markdown",
   "metadata": {},
   "source": [
    "### Location"
   ]
  },
  {
   "cell_type": "code",
   "execution_count": 206,
   "metadata": {
    "scrolled": true
   },
   "outputs": [
    {
     "data": {
      "text/plain": [
       "{'resourceType': 'Location',\n",
       " 'id': '2502',\n",
       " 'identifier': [{'system': 'https://cdc.gov/vaccines/programs/vtrcks',\n",
       "   'value': 'CV1002502'}],\n",
       " 'name': 'CVS Pharmacy in CHESHIRE, CT',\n",
       " 'telecom': [{'system': 'phone', 'value': '888-607-4287'},\n",
       "  {'system': 'url',\n",
       "   'value': 'https://www.cvs.com/immunizations/covid-19-vaccine?cid=oc_vacfnd_cvd'}],\n",
       " 'address': {'line': ['581 HIGHLAND AVE.'],\n",
       "  'city': 'CHESHIRE',\n",
       "  'state': 'CT',\n",
       "  'postalCode': '06410'}}"
      ]
     },
     "execution_count": 206,
     "metadata": {},
     "output_type": "execute_result"
    }
   ],
   "source": [
    "ndjson.loads(Location_re.text)[0]\n",
    "#The ndjson file are different from json file, the boundary is \",\", but also be careful of the \",\""
   ]
  },
  {
   "cell_type": "code",
   "execution_count": 207,
   "metadata": {},
   "outputs": [
    {
     "data": {
      "text/plain": [
       "dict_keys(['resourceType', 'id', 'identifier', 'name', 'telecom', 'address'])"
      ]
     },
     "execution_count": 207,
     "metadata": {},
     "output_type": "execute_result"
    }
   ],
   "source": [
    "ndjson.loads(Location_re.text)[0].keys()"
   ]
  },
  {
   "cell_type": "code",
   "execution_count": 208,
   "metadata": {},
   "outputs": [
    {
     "data": {
      "text/plain": [
       "[{'system': 'phone', 'value': '888-607-4287'},\n",
       " {'system': 'url',\n",
       "  'value': 'https://www.cvs.com/immunizations/covid-19-vaccine?cid=oc_vacfnd_cvd'}]"
      ]
     },
     "execution_count": 208,
     "metadata": {},
     "output_type": "execute_result"
    }
   ],
   "source": [
    "ndjson.loads(Location_re.text)[0]['telecom']\n",
    "#type(ndjson.loads(Location_re.text)[0]['telecom'])  ## It is the list"
   ]
  },
  {
   "cell_type": "code",
   "execution_count": 209,
   "metadata": {},
   "outputs": [
    {
     "data": {
      "text/plain": [
       "{'system': 'phone', 'value': '888-607-4287'}"
      ]
     },
     "execution_count": 209,
     "metadata": {},
     "output_type": "execute_result"
    }
   ],
   "source": [
    "ndjson.loads(Location_re.text)[0]['telecom'][0]\n",
    "#type(ndjson.loads(Location_re.text)[0]['telecom'][0]) ## It is the dict"
   ]
  },
  {
   "cell_type": "code",
   "execution_count": 210,
   "metadata": {},
   "outputs": [
    {
     "data": {
      "text/plain": [
       "'888-607-4287'"
      ]
     },
     "execution_count": 210,
     "metadata": {},
     "output_type": "execute_result"
    }
   ],
   "source": [
    "ndjson.loads(Location_re.text)[0]['telecom'][0]['value']"
   ]
  },
  {
   "cell_type": "markdown",
   "metadata": {},
   "source": [
    "### Schedule"
   ]
  },
  {
   "cell_type": "code",
   "execution_count": 211,
   "metadata": {},
   "outputs": [
    {
     "data": {
      "text/plain": [
       "{'resourceType': 'Schedule',\n",
       " 'id': 'C250B470EE32ED97E0536CF0D90A07A9',\n",
       " 'serviceType': [{'coding': [{'system': 'http://terminology.hl7.org/CodeSystem/service-type',\n",
       "     'code': '57',\n",
       "     'display': 'Immunization'},\n",
       "    {'system': 'http://fhir-registry.smarthealthit.org/StructureDefinition/vaccine-dose',\n",
       "     'code': 'covid19-immunization',\n",
       "     'display': 'COVID-19 Immunization Appointment'}]}],\n",
       " 'actor': [{'reference': 'Location/1482'}]}"
      ]
     },
     "execution_count": 211,
     "metadata": {},
     "output_type": "execute_result"
    }
   ],
   "source": [
    "ndjson.loads(Schedule_re.text)[0]"
   ]
  },
  {
   "cell_type": "code",
   "execution_count": 212,
   "metadata": {},
   "outputs": [
    {
     "data": {
      "text/plain": [
       "dict_keys(['resourceType', 'id', 'serviceType', 'actor'])"
      ]
     },
     "execution_count": 212,
     "metadata": {},
     "output_type": "execute_result"
    }
   ],
   "source": [
    "ndjson.loads(Schedule_re.text)[0].keys()"
   ]
  },
  {
   "cell_type": "code",
   "execution_count": 213,
   "metadata": {},
   "outputs": [
    {
     "data": {
      "text/plain": [
       "'1482'"
      ]
     },
     "execution_count": 213,
     "metadata": {},
     "output_type": "execute_result"
    }
   ],
   "source": [
    "ndjson.loads(Schedule_re.text)[0]['actor'][0]['reference'].split('/')[1]\n",
    "# In the reference: the location/9714, we only need the number after /"
   ]
  },
  {
   "cell_type": "code",
   "execution_count": 214,
   "metadata": {},
   "outputs": [
    {
     "data": {
      "text/plain": [
       "'C250B470EE32ED97E0536CF0D90A07A9'"
      ]
     },
     "execution_count": 214,
     "metadata": {},
     "output_type": "execute_result"
    }
   ],
   "source": [
    "ndjson.loads(Schedule_re.text)[0]['id']"
   ]
  },
  {
   "cell_type": "markdown",
   "metadata": {},
   "source": [
    "### Slot"
   ]
  },
  {
   "cell_type": "code",
   "execution_count": 215,
   "metadata": {
    "scrolled": true
   },
   "outputs": [
    {
     "data": {
      "text/plain": [
       "{'resourceType': 'Slot',\n",
       " 'id': 'C250B471143DED97E0536CF0D90A07A9',\n",
       " 'schedule': {'reference': 'Schedule/C250B470F1F3ED97E0536CF0D90A07A9'},\n",
       " 'status': 'busy',\n",
       " 'start': '2021-05-17T09:00:00.000Z',\n",
       " 'end': '2021-05-17T19:00:00.000Z',\n",
       " 'extension': [{'url': 'http://fhir-registry.smarthealthit.org/StructureDefinition/booking-deep-link',\n",
       "   'valueUrl': 'https://www.cvs.com/immunizations/covid-19-vaccine?cid=oc_vacfnd_cvd'},\n",
       "  {'url': 'http://fhir-registry.smarthealthit.org/StructureDefinition/slot-capacity',\n",
       "   'valueInteger': '0'}]}"
      ]
     },
     "execution_count": 215,
     "metadata": {},
     "output_type": "execute_result"
    }
   ],
   "source": [
    "ndjson.loads(Slot_re.text)[0]"
   ]
  },
  {
   "cell_type": "code",
   "execution_count": 216,
   "metadata": {
    "scrolled": true
   },
   "outputs": [
    {
     "data": {
      "text/plain": [
       "dict_keys(['resourceType', 'id', 'schedule', 'status', 'start', 'end', 'extension'])"
      ]
     },
     "execution_count": 216,
     "metadata": {},
     "output_type": "execute_result"
    }
   ],
   "source": [
    "ndjson.loads(Slot_re.text)[0].keys()"
   ]
  },
  {
   "cell_type": "code",
   "execution_count": 217,
   "metadata": {
    "scrolled": true
   },
   "outputs": [
    {
     "data": {
      "text/plain": [
       "'C250B470F1F3ED97E0536CF0D90A07A9'"
      ]
     },
     "execution_count": 217,
     "metadata": {},
     "output_type": "execute_result"
    }
   ],
   "source": [
    "ndjson.loads(Slot_re.text)[0]['schedule']['reference'].split('/')[1]"
   ]
  },
  {
   "cell_type": "code",
   "execution_count": 218,
   "metadata": {},
   "outputs": [
    {
     "data": {
      "text/plain": [
       "'busy'"
      ]
     },
     "execution_count": 218,
     "metadata": {},
     "output_type": "execute_result"
    }
   ],
   "source": [
    "ndjson.loads(Slot_re.text)[0]['status']"
   ]
  },
  {
   "cell_type": "code",
   "execution_count": 219,
   "metadata": {},
   "outputs": [
    {
     "data": {
      "text/plain": [
       "'2021-05-17T09:00:00.000Z'"
      ]
     },
     "execution_count": 219,
     "metadata": {},
     "output_type": "execute_result"
    }
   ],
   "source": [
    "ndjson.loads(Slot_re.text)[0]['start']"
   ]
  },
  {
   "cell_type": "code",
   "execution_count": 220,
   "metadata": {},
   "outputs": [
    {
     "data": {
      "text/plain": [
       "'2021-05-17T19:00:00.000Z'"
      ]
     },
     "execution_count": 220,
     "metadata": {},
     "output_type": "execute_result"
    }
   ],
   "source": [
    "ndjson.loads(Slot_re.text)[0]['end']"
   ]
  },
  {
   "cell_type": "code",
   "execution_count": 221,
   "metadata": {},
   "outputs": [
    {
     "data": {
      "text/plain": [
       "'0'"
      ]
     },
     "execution_count": 221,
     "metadata": {},
     "output_type": "execute_result"
    }
   ],
   "source": [
    "ndjson.loads(Slot_re.text)[0]['extension'][1]['valueInteger']"
   ]
  },
  {
   "cell_type": "markdown",
   "metadata": {},
   "source": [
    "## Create For Loop to organize information of Locations"
   ]
  },
  {
   "cell_type": "code",
   "execution_count": 222,
   "metadata": {},
   "outputs": [],
   "source": [
    "Locations_Info=[]\n",
    "for Locations in ndjson.loads(Location_re.text):\n",
    "    Detail_Info={'id':Locations['id'],\n",
    "     'Line':Locations['address']['line'],\n",
    "     'City':Locations['address']['city'],\n",
    "     'State':Locations['address']['state'],\n",
    "     'PostalCode':Locations['address']['postalCode'],\n",
    "         }\n",
    "    Locations_Info.append(Detail_Info)"
   ]
  },
  {
   "cell_type": "code",
   "execution_count": 287,
   "metadata": {},
   "outputs": [],
   "source": [
    "#Locations_Info"
   ]
  },
  {
   "cell_type": "code",
   "execution_count": 224,
   "metadata": {},
   "outputs": [],
   "source": [
    "Location_DF=pd.DataFrame(Locations_Info)  ## Becasue Locations_Info is the List and dic is inside of this List"
   ]
  },
  {
   "cell_type": "code",
   "execution_count": 225,
   "metadata": {
    "scrolled": true
   },
   "outputs": [
    {
     "data": {
      "text/html": [
       "<div>\n",
       "<style scoped>\n",
       "    .dataframe tbody tr th:only-of-type {\n",
       "        vertical-align: middle;\n",
       "    }\n",
       "\n",
       "    .dataframe tbody tr th {\n",
       "        vertical-align: top;\n",
       "    }\n",
       "\n",
       "    .dataframe thead th {\n",
       "        text-align: right;\n",
       "    }\n",
       "</style>\n",
       "<table border=\"1\" class=\"dataframe\">\n",
       "  <thead>\n",
       "    <tr style=\"text-align: right;\">\n",
       "      <th></th>\n",
       "      <th>id</th>\n",
       "      <th>Line</th>\n",
       "      <th>City</th>\n",
       "      <th>State</th>\n",
       "      <th>PostalCode</th>\n",
       "    </tr>\n",
       "  </thead>\n",
       "  <tbody>\n",
       "    <tr>\n",
       "      <th>0</th>\n",
       "      <td>2502</td>\n",
       "      <td>[581 HIGHLAND AVE.]</td>\n",
       "      <td>CHESHIRE</td>\n",
       "      <td>CT</td>\n",
       "      <td>06410</td>\n",
       "    </tr>\n",
       "    <tr>\n",
       "      <th>1</th>\n",
       "      <td>1521</td>\n",
       "      <td>[9140 ROTHBURY DRIVE]</td>\n",
       "      <td>GAITHERSBURG</td>\n",
       "      <td>MD</td>\n",
       "      <td>20886</td>\n",
       "    </tr>\n",
       "    <tr>\n",
       "      <th>2</th>\n",
       "      <td>4365</td>\n",
       "      <td>[709 W. COLLEGE ST.]</td>\n",
       "      <td>PULASKI</td>\n",
       "      <td>TN</td>\n",
       "      <td>38478</td>\n",
       "    </tr>\n",
       "    <tr>\n",
       "      <th>3</th>\n",
       "      <td>1087</td>\n",
       "      <td>[20 FILORS LN.]</td>\n",
       "      <td>STONY POINT</td>\n",
       "      <td>NY</td>\n",
       "      <td>10980</td>\n",
       "    </tr>\n",
       "    <tr>\n",
       "      <th>4</th>\n",
       "      <td>4984</td>\n",
       "      <td>[863 BALTIMORE PIKE]</td>\n",
       "      <td>GLEN MILLS</td>\n",
       "      <td>PA</td>\n",
       "      <td>19342</td>\n",
       "    </tr>\n",
       "    <tr>\n",
       "      <th>...</th>\n",
       "      <td>...</td>\n",
       "      <td>...</td>\n",
       "      <td>...</td>\n",
       "      <td>...</td>\n",
       "      <td>...</td>\n",
       "    </tr>\n",
       "    <tr>\n",
       "      <th>9712</th>\n",
       "      <td>3634</td>\n",
       "      <td>[2160 LEE RD]</td>\n",
       "      <td>CLEVELAND HEIGHTS</td>\n",
       "      <td>OH</td>\n",
       "      <td>44118</td>\n",
       "    </tr>\n",
       "    <tr>\n",
       "      <th>9713</th>\n",
       "      <td>2535</td>\n",
       "      <td>[49 CLAREMONT AVE.]</td>\n",
       "      <td>MONTCLAIR</td>\n",
       "      <td>NJ</td>\n",
       "      <td>07042</td>\n",
       "    </tr>\n",
       "    <tr>\n",
       "      <th>9714</th>\n",
       "      <td>8875</td>\n",
       "      <td>[3644 EAST OLYMPIC BOULEVARD]</td>\n",
       "      <td>LOS ANGELES</td>\n",
       "      <td>CA</td>\n",
       "      <td>90023</td>\n",
       "    </tr>\n",
       "    <tr>\n",
       "      <th>9715</th>\n",
       "      <td>675</td>\n",
       "      <td>[159 N. MACDADE BLVD.]</td>\n",
       "      <td>GLENOLDEN</td>\n",
       "      <td>PA</td>\n",
       "      <td>19036</td>\n",
       "    </tr>\n",
       "    <tr>\n",
       "      <th>9716</th>\n",
       "      <td>2004</td>\n",
       "      <td>[3117 LOCKHEED BLVD.]</td>\n",
       "      <td>ALEXANDRIA</td>\n",
       "      <td>VA</td>\n",
       "      <td>22306</td>\n",
       "    </tr>\n",
       "  </tbody>\n",
       "</table>\n",
       "<p>9717 rows × 5 columns</p>\n",
       "</div>"
      ],
      "text/plain": [
       "        id                           Line               City State PostalCode\n",
       "0     2502            [581 HIGHLAND AVE.]           CHESHIRE    CT      06410\n",
       "1     1521          [9140 ROTHBURY DRIVE]       GAITHERSBURG    MD      20886\n",
       "2     4365           [709 W. COLLEGE ST.]            PULASKI    TN      38478\n",
       "3     1087                [20 FILORS LN.]        STONY POINT    NY      10980\n",
       "4     4984           [863 BALTIMORE PIKE]         GLEN MILLS    PA      19342\n",
       "...    ...                            ...                ...   ...        ...\n",
       "9712  3634                  [2160 LEE RD]  CLEVELAND HEIGHTS    OH      44118\n",
       "9713  2535            [49 CLAREMONT AVE.]          MONTCLAIR    NJ      07042\n",
       "9714  8875  [3644 EAST OLYMPIC BOULEVARD]        LOS ANGELES    CA      90023\n",
       "9715   675         [159 N. MACDADE BLVD.]          GLENOLDEN    PA      19036\n",
       "9716  2004          [3117 LOCKHEED BLVD.]         ALEXANDRIA    VA      22306\n",
       "\n",
       "[9717 rows x 5 columns]"
      ]
     },
     "execution_count": 225,
     "metadata": {},
     "output_type": "execute_result"
    }
   ],
   "source": [
    "Location_DF"
   ]
  },
  {
   "cell_type": "code",
   "execution_count": 235,
   "metadata": {},
   "outputs": [
    {
     "data": {
      "text/plain": [
       "CA    1155\n",
       "TX     841\n",
       "FL     836\n",
       "NY     558\n",
       "PA     454\n",
       "MA     400\n",
       "OH     385\n",
       "IL     373\n",
       "NC     359\n",
       "VA     347\n",
       "GA     342\n",
       "NJ     342\n",
       "IN     330\n",
       "MI     297\n",
       "MD     225\n",
       "SC     206\n",
       "MO     195\n",
       "AZ     195\n",
       "CT     179\n",
       "AL     178\n",
       "TN     158\n",
       "LA     133\n",
       "MN     128\n",
       "NV      94\n",
       "KY      80\n",
       "WI      80\n",
       "OK      76\n",
       "HI      69\n",
       "RI      61\n",
       "DC      59\n",
       "MS      57\n",
       "WV      57\n",
       "KS      54\n",
       "CO      51\n",
       "NH      47\n",
       "WA      45\n",
       "IA      38\n",
       "NE      29\n",
       "UT      29\n",
       "ME      24\n",
       "NM      24\n",
       "AR      23\n",
       "PR      22\n",
       "OR      22\n",
       "DE      20\n",
       "MT      14\n",
       "VT       9\n",
       "ND       6\n",
       "SD       3\n",
       "AK       3\n",
       "ID       3\n",
       "WY       2\n",
       "Name: State, dtype: int64"
      ]
     },
     "execution_count": 235,
     "metadata": {},
     "output_type": "execute_result"
    }
   ],
   "source": [
    "Location_DF['State'].value_counts()\n",
    "#Location_DF['State'].value_counts().sort_values()"
   ]
  },
  {
   "cell_type": "code",
   "execution_count": null,
   "metadata": {},
   "outputs": [],
   "source": [
    "Location_DF.groupby([\"State\",\"City\"]).count().reset_index()"
   ]
  },
  {
   "cell_type": "markdown",
   "metadata": {},
   "source": [
    "## Create For Loop to organize information of Schedules"
   ]
  },
  {
   "cell_type": "code",
   "execution_count": null,
   "metadata": {},
   "outputs": [],
   "source": [
    "Schedule_Info=[]\n",
    "for Schedules in ndjson.loads(Schedule_re.text):\n",
    "    Detail_Info={'id':Schedules['id'],\n",
    "                 'actor':Schedules['actor'][0]['reference'].split('/')[1]\n",
    "         }\n",
    "    Schedule_Info.append(Detail_Info)"
   ]
  },
  {
   "cell_type": "code",
   "execution_count": null,
   "metadata": {},
   "outputs": [],
   "source": [
    " Schedule_Info"
   ]
  },
  {
   "cell_type": "code",
   "execution_count": null,
   "metadata": {},
   "outputs": [],
   "source": [
    "Schedule_DF=pd.DataFrame(Schedule_Info)"
   ]
  },
  {
   "cell_type": "code",
   "execution_count": null,
   "metadata": {},
   "outputs": [],
   "source": [
    "Schedule_DF['id'].value_counts()"
   ]
  },
  {
   "cell_type": "code",
   "execution_count": null,
   "metadata": {},
   "outputs": [],
   "source": [
    "Schedule_DF['actor'].value_counts().max()\n",
    "#Schedule_DF['actor'].value_counts().max()    # 1"
   ]
  },
  {
   "cell_type": "markdown",
   "metadata": {},
   "source": [
    "## Create For Loop to organize information of Slots"
   ]
  },
  {
   "cell_type": "code",
   "execution_count": null,
   "metadata": {},
   "outputs": [],
   "source": [
    "Slot_Info=[]\n",
    "for Slots in ndjson.loads(Slot_re.text):\n",
    "    Detail_Info={'id':Slots['schedule']['reference'].split('/')[1],\n",
    "                 'Status':Slots['status'],\n",
    "                 'Start':Slots['start'],\n",
    "                 'End':Slots['end'],\n",
    "                 'ValueInteger':Slots['extension'][1]['valueInteger']\n",
    "         }\n",
    "    Slot_Info.append(Detail_Info)"
   ]
  },
  {
   "cell_type": "code",
   "execution_count": null,
   "metadata": {},
   "outputs": [],
   "source": [
    " Slot_Info"
   ]
  },
  {
   "cell_type": "code",
   "execution_count": null,
   "metadata": {},
   "outputs": [],
   "source": [
    "Slot_DF=pd.DataFrame(Slot_Info)"
   ]
  },
  {
   "cell_type": "code",
   "execution_count": null,
   "metadata": {},
   "outputs": [],
   "source": [
    "Slot_DF"
   ]
  },
  {
   "cell_type": "code",
   "execution_count": null,
   "metadata": {},
   "outputs": [],
   "source": [
    "Slot_DF['id'].value_counts()\n",
    "#Slot_DF['id'].value_counts().max()    ## 1\n",
    "#The id is the unique value"
   ]
  },
  {
   "cell_type": "code",
   "execution_count": 258,
   "metadata": {},
   "outputs": [],
   "source": [
    "Slot_DF['Start']=[datetime.strptime(x, '%Y-%m-%dT%H:%M:%S.%fZ') for x in Slot_DF['Start']]"
   ]
  },
  {
   "cell_type": "code",
   "execution_count": 259,
   "metadata": {},
   "outputs": [],
   "source": [
    "Slot_DF['End']=[datetime.strptime(x, '%Y-%m-%dT%H:%M:%S.%fZ') for x in Slot_DF['End']]"
   ]
  },
  {
   "cell_type": "code",
   "execution_count": null,
   "metadata": {},
   "outputs": [],
   "source": [
    "Slot_DF[['Status','ValueInteger']].drop_duplicates()\n",
    "#Slot_DF['Status'].value_counts()\n",
    "#Slot_DF['ValueInteger'].value_counts()\n",
    "#Based on the result, the busy means 0, free means 1"
   ]
  },
  {
   "cell_type": "code",
   "execution_count": null,
   "metadata": {},
   "outputs": [],
   "source": [
    "Slot_DF[['Start','End']].drop_duplicates()"
   ]
  },
  {
   "cell_type": "markdown",
   "metadata": {},
   "source": [
    "# Combine 3 DataFrames Together"
   ]
  },
  {
   "cell_type": "markdown",
   "metadata": {},
   "source": [
    "The location files are the all locations of CVS\n",
    "The Schedule tels service type and locations(all of them the service types are same)\n",
    "The slot file tells the free or busy "
   ]
  },
  {
   "cell_type": "code",
   "execution_count": 244,
   "metadata": {},
   "outputs": [
    {
     "data": {
      "text/html": [
       "<div>\n",
       "<style scoped>\n",
       "    .dataframe tbody tr th:only-of-type {\n",
       "        vertical-align: middle;\n",
       "    }\n",
       "\n",
       "    .dataframe tbody tr th {\n",
       "        vertical-align: top;\n",
       "    }\n",
       "\n",
       "    .dataframe thead th {\n",
       "        text-align: right;\n",
       "    }\n",
       "</style>\n",
       "<table border=\"1\" class=\"dataframe\">\n",
       "  <thead>\n",
       "    <tr style=\"text-align: right;\">\n",
       "      <th></th>\n",
       "      <th>id</th>\n",
       "      <th>Line</th>\n",
       "      <th>City</th>\n",
       "      <th>State</th>\n",
       "      <th>PostalCode</th>\n",
       "    </tr>\n",
       "  </thead>\n",
       "  <tbody>\n",
       "    <tr>\n",
       "      <th>0</th>\n",
       "      <td>2502</td>\n",
       "      <td>[581 HIGHLAND AVE.]</td>\n",
       "      <td>CHESHIRE</td>\n",
       "      <td>CT</td>\n",
       "      <td>06410</td>\n",
       "    </tr>\n",
       "    <tr>\n",
       "      <th>1</th>\n",
       "      <td>1521</td>\n",
       "      <td>[9140 ROTHBURY DRIVE]</td>\n",
       "      <td>GAITHERSBURG</td>\n",
       "      <td>MD</td>\n",
       "      <td>20886</td>\n",
       "    </tr>\n",
       "    <tr>\n",
       "      <th>2</th>\n",
       "      <td>4365</td>\n",
       "      <td>[709 W. COLLEGE ST.]</td>\n",
       "      <td>PULASKI</td>\n",
       "      <td>TN</td>\n",
       "      <td>38478</td>\n",
       "    </tr>\n",
       "    <tr>\n",
       "      <th>3</th>\n",
       "      <td>1087</td>\n",
       "      <td>[20 FILORS LN.]</td>\n",
       "      <td>STONY POINT</td>\n",
       "      <td>NY</td>\n",
       "      <td>10980</td>\n",
       "    </tr>\n",
       "    <tr>\n",
       "      <th>4</th>\n",
       "      <td>4984</td>\n",
       "      <td>[863 BALTIMORE PIKE]</td>\n",
       "      <td>GLEN MILLS</td>\n",
       "      <td>PA</td>\n",
       "      <td>19342</td>\n",
       "    </tr>\n",
       "    <tr>\n",
       "      <th>...</th>\n",
       "      <td>...</td>\n",
       "      <td>...</td>\n",
       "      <td>...</td>\n",
       "      <td>...</td>\n",
       "      <td>...</td>\n",
       "    </tr>\n",
       "    <tr>\n",
       "      <th>9712</th>\n",
       "      <td>3634</td>\n",
       "      <td>[2160 LEE RD]</td>\n",
       "      <td>CLEVELAND HEIGHTS</td>\n",
       "      <td>OH</td>\n",
       "      <td>44118</td>\n",
       "    </tr>\n",
       "    <tr>\n",
       "      <th>9713</th>\n",
       "      <td>2535</td>\n",
       "      <td>[49 CLAREMONT AVE.]</td>\n",
       "      <td>MONTCLAIR</td>\n",
       "      <td>NJ</td>\n",
       "      <td>07042</td>\n",
       "    </tr>\n",
       "    <tr>\n",
       "      <th>9714</th>\n",
       "      <td>8875</td>\n",
       "      <td>[3644 EAST OLYMPIC BOULEVARD]</td>\n",
       "      <td>LOS ANGELES</td>\n",
       "      <td>CA</td>\n",
       "      <td>90023</td>\n",
       "    </tr>\n",
       "    <tr>\n",
       "      <th>9715</th>\n",
       "      <td>675</td>\n",
       "      <td>[159 N. MACDADE BLVD.]</td>\n",
       "      <td>GLENOLDEN</td>\n",
       "      <td>PA</td>\n",
       "      <td>19036</td>\n",
       "    </tr>\n",
       "    <tr>\n",
       "      <th>9716</th>\n",
       "      <td>2004</td>\n",
       "      <td>[3117 LOCKHEED BLVD.]</td>\n",
       "      <td>ALEXANDRIA</td>\n",
       "      <td>VA</td>\n",
       "      <td>22306</td>\n",
       "    </tr>\n",
       "  </tbody>\n",
       "</table>\n",
       "<p>9717 rows × 5 columns</p>\n",
       "</div>"
      ],
      "text/plain": [
       "        id                           Line               City State PostalCode\n",
       "0     2502            [581 HIGHLAND AVE.]           CHESHIRE    CT      06410\n",
       "1     1521          [9140 ROTHBURY DRIVE]       GAITHERSBURG    MD      20886\n",
       "2     4365           [709 W. COLLEGE ST.]            PULASKI    TN      38478\n",
       "3     1087                [20 FILORS LN.]        STONY POINT    NY      10980\n",
       "4     4984           [863 BALTIMORE PIKE]         GLEN MILLS    PA      19342\n",
       "...    ...                            ...                ...   ...        ...\n",
       "9712  3634                  [2160 LEE RD]  CLEVELAND HEIGHTS    OH      44118\n",
       "9713  2535            [49 CLAREMONT AVE.]          MONTCLAIR    NJ      07042\n",
       "9714  8875  [3644 EAST OLYMPIC BOULEVARD]        LOS ANGELES    CA      90023\n",
       "9715   675         [159 N. MACDADE BLVD.]          GLENOLDEN    PA      19036\n",
       "9716  2004          [3117 LOCKHEED BLVD.]         ALEXANDRIA    VA      22306\n",
       "\n",
       "[9717 rows x 5 columns]"
      ]
     },
     "execution_count": 244,
     "metadata": {},
     "output_type": "execute_result"
    }
   ],
   "source": [
    "Location_DF"
   ]
  },
  {
   "cell_type": "code",
   "execution_count": 245,
   "metadata": {
    "scrolled": false
   },
   "outputs": [
    {
     "data": {
      "text/html": [
       "<div>\n",
       "<style scoped>\n",
       "    .dataframe tbody tr th:only-of-type {\n",
       "        vertical-align: middle;\n",
       "    }\n",
       "\n",
       "    .dataframe tbody tr th {\n",
       "        vertical-align: top;\n",
       "    }\n",
       "\n",
       "    .dataframe thead th {\n",
       "        text-align: right;\n",
       "    }\n",
       "</style>\n",
       "<table border=\"1\" class=\"dataframe\">\n",
       "  <thead>\n",
       "    <tr style=\"text-align: right;\">\n",
       "      <th></th>\n",
       "      <th>id</th>\n",
       "      <th>actor</th>\n",
       "    </tr>\n",
       "  </thead>\n",
       "  <tbody>\n",
       "    <tr>\n",
       "      <th>0</th>\n",
       "      <td>C2406DAB5EA443A6E0536CF0D90AD641</td>\n",
       "      <td>9714</td>\n",
       "    </tr>\n",
       "    <tr>\n",
       "      <th>1</th>\n",
       "      <td>C2406DAB5EA543A6E0536CF0D90AD641</td>\n",
       "      <td>7655</td>\n",
       "    </tr>\n",
       "    <tr>\n",
       "      <th>2</th>\n",
       "      <td>C2406DAB5EA643A6E0536CF0D90AD641</td>\n",
       "      <td>2000</td>\n",
       "    </tr>\n",
       "    <tr>\n",
       "      <th>3</th>\n",
       "      <td>C2406DAB5EA743A6E0536CF0D90AD641</td>\n",
       "      <td>5383</td>\n",
       "    </tr>\n",
       "    <tr>\n",
       "      <th>4</th>\n",
       "      <td>C2406DAB5EA843A6E0536CF0D90AD641</td>\n",
       "      <td>4615</td>\n",
       "    </tr>\n",
       "    <tr>\n",
       "      <th>...</th>\n",
       "      <td>...</td>\n",
       "      <td>...</td>\n",
       "    </tr>\n",
       "    <tr>\n",
       "      <th>9559</th>\n",
       "      <td>C2406DAB838443A6E0536CF0D90AD641</td>\n",
       "      <td>3634</td>\n",
       "    </tr>\n",
       "    <tr>\n",
       "      <th>9560</th>\n",
       "      <td>C2406DAB838543A6E0536CF0D90AD641</td>\n",
       "      <td>2535</td>\n",
       "    </tr>\n",
       "    <tr>\n",
       "      <th>9561</th>\n",
       "      <td>C2406DAB838643A6E0536CF0D90AD641</td>\n",
       "      <td>8875</td>\n",
       "    </tr>\n",
       "    <tr>\n",
       "      <th>9562</th>\n",
       "      <td>C2406DAB838743A6E0536CF0D90AD641</td>\n",
       "      <td>675</td>\n",
       "    </tr>\n",
       "    <tr>\n",
       "      <th>9563</th>\n",
       "      <td>C2406DAB838A43A6E0536CF0D90AD641</td>\n",
       "      <td>2004</td>\n",
       "    </tr>\n",
       "  </tbody>\n",
       "</table>\n",
       "<p>9564 rows × 2 columns</p>\n",
       "</div>"
      ],
      "text/plain": [
       "                                    id actor\n",
       "0     C2406DAB5EA443A6E0536CF0D90AD641  9714\n",
       "1     C2406DAB5EA543A6E0536CF0D90AD641  7655\n",
       "2     C2406DAB5EA643A6E0536CF0D90AD641  2000\n",
       "3     C2406DAB5EA743A6E0536CF0D90AD641  5383\n",
       "4     C2406DAB5EA843A6E0536CF0D90AD641  4615\n",
       "...                                ...   ...\n",
       "9559  C2406DAB838443A6E0536CF0D90AD641  3634\n",
       "9560  C2406DAB838543A6E0536CF0D90AD641  2535\n",
       "9561  C2406DAB838643A6E0536CF0D90AD641  8875\n",
       "9562  C2406DAB838743A6E0536CF0D90AD641   675\n",
       "9563  C2406DAB838A43A6E0536CF0D90AD641  2004\n",
       "\n",
       "[9564 rows x 2 columns]"
      ]
     },
     "execution_count": 245,
     "metadata": {},
     "output_type": "execute_result"
    }
   ],
   "source": [
    "Schedule_DF"
   ]
  },
  {
   "cell_type": "code",
   "execution_count": 246,
   "metadata": {},
   "outputs": [
    {
     "data": {
      "text/html": [
       "<div>\n",
       "<style scoped>\n",
       "    .dataframe tbody tr th:only-of-type {\n",
       "        vertical-align: middle;\n",
       "    }\n",
       "\n",
       "    .dataframe tbody tr th {\n",
       "        vertical-align: top;\n",
       "    }\n",
       "\n",
       "    .dataframe thead th {\n",
       "        text-align: right;\n",
       "    }\n",
       "</style>\n",
       "<table border=\"1\" class=\"dataframe\">\n",
       "  <thead>\n",
       "    <tr style=\"text-align: right;\">\n",
       "      <th></th>\n",
       "      <th>id</th>\n",
       "      <th>Status</th>\n",
       "      <th>Start</th>\n",
       "      <th>End</th>\n",
       "      <th>ValueInteger</th>\n",
       "    </tr>\n",
       "  </thead>\n",
       "  <tbody>\n",
       "    <tr>\n",
       "      <th>0</th>\n",
       "      <td>C2406DAB7E1F43A6E0536CF0D90AD641</td>\n",
       "      <td>free</td>\n",
       "      <td>2021-05-17T09:00:00.000Z</td>\n",
       "      <td>2021-05-17T19:00:00.000Z</td>\n",
       "      <td>1</td>\n",
       "    </tr>\n",
       "    <tr>\n",
       "      <th>1</th>\n",
       "      <td>C2406DAB76C843A6E0536CF0D90AD641</td>\n",
       "      <td>busy</td>\n",
       "      <td>2021-05-14T09:00:00.000Z</td>\n",
       "      <td>2021-05-14T19:00:00.000Z</td>\n",
       "      <td>0</td>\n",
       "    </tr>\n",
       "    <tr>\n",
       "      <th>2</th>\n",
       "      <td>C2406DAB76C843A6E0536CF0D90AD641</td>\n",
       "      <td>free</td>\n",
       "      <td>2021-05-17T09:00:00.000Z</td>\n",
       "      <td>2021-05-17T19:00:00.000Z</td>\n",
       "      <td>1</td>\n",
       "    </tr>\n",
       "    <tr>\n",
       "      <th>3</th>\n",
       "      <td>C2406DAB76C843A6E0536CF0D90AD641</td>\n",
       "      <td>free</td>\n",
       "      <td>2021-05-16T09:00:00.000Z</td>\n",
       "      <td>2021-05-16T19:00:00.000Z</td>\n",
       "      <td>1</td>\n",
       "    </tr>\n",
       "    <tr>\n",
       "      <th>4</th>\n",
       "      <td>C2406DAB76C843A6E0536CF0D90AD641</td>\n",
       "      <td>busy</td>\n",
       "      <td>2021-05-15T09:00:00.000Z</td>\n",
       "      <td>2021-05-15T19:00:00.000Z</td>\n",
       "      <td>0</td>\n",
       "    </tr>\n",
       "    <tr>\n",
       "      <th>...</th>\n",
       "      <td>...</td>\n",
       "      <td>...</td>\n",
       "      <td>...</td>\n",
       "      <td>...</td>\n",
       "      <td>...</td>\n",
       "    </tr>\n",
       "    <tr>\n",
       "      <th>38251</th>\n",
       "      <td>C2406DAB763C43A6E0536CF0D90AD641</td>\n",
       "      <td>free</td>\n",
       "      <td>2021-05-17T09:00:00.000Z</td>\n",
       "      <td>2021-05-17T19:00:00.000Z</td>\n",
       "      <td>1</td>\n",
       "    </tr>\n",
       "    <tr>\n",
       "      <th>38252</th>\n",
       "      <td>C2406DAB763C43A6E0536CF0D90AD641</td>\n",
       "      <td>busy</td>\n",
       "      <td>2021-05-16T09:00:00.000Z</td>\n",
       "      <td>2021-05-16T19:00:00.000Z</td>\n",
       "      <td>0</td>\n",
       "    </tr>\n",
       "    <tr>\n",
       "      <th>38253</th>\n",
       "      <td>C2406DAB763C43A6E0536CF0D90AD641</td>\n",
       "      <td>busy</td>\n",
       "      <td>2021-05-15T09:00:00.000Z</td>\n",
       "      <td>2021-05-15T19:00:00.000Z</td>\n",
       "      <td>0</td>\n",
       "    </tr>\n",
       "    <tr>\n",
       "      <th>38254</th>\n",
       "      <td>C2406DAB834843A6E0536CF0D90AD641</td>\n",
       "      <td>busy</td>\n",
       "      <td>2021-05-14T09:00:00.000Z</td>\n",
       "      <td>2021-05-14T19:00:00.000Z</td>\n",
       "      <td>0</td>\n",
       "    </tr>\n",
       "    <tr>\n",
       "      <th>38255</th>\n",
       "      <td>C2406DAB834843A6E0536CF0D90AD641</td>\n",
       "      <td>busy</td>\n",
       "      <td>2021-05-15T09:00:00.000Z</td>\n",
       "      <td>2021-05-15T19:00:00.000Z</td>\n",
       "      <td>0</td>\n",
       "    </tr>\n",
       "  </tbody>\n",
       "</table>\n",
       "<p>38256 rows × 5 columns</p>\n",
       "</div>"
      ],
      "text/plain": [
       "                                     id Status                     Start  \\\n",
       "0      C2406DAB7E1F43A6E0536CF0D90AD641   free  2021-05-17T09:00:00.000Z   \n",
       "1      C2406DAB76C843A6E0536CF0D90AD641   busy  2021-05-14T09:00:00.000Z   \n",
       "2      C2406DAB76C843A6E0536CF0D90AD641   free  2021-05-17T09:00:00.000Z   \n",
       "3      C2406DAB76C843A6E0536CF0D90AD641   free  2021-05-16T09:00:00.000Z   \n",
       "4      C2406DAB76C843A6E0536CF0D90AD641   busy  2021-05-15T09:00:00.000Z   \n",
       "...                                 ...    ...                       ...   \n",
       "38251  C2406DAB763C43A6E0536CF0D90AD641   free  2021-05-17T09:00:00.000Z   \n",
       "38252  C2406DAB763C43A6E0536CF0D90AD641   busy  2021-05-16T09:00:00.000Z   \n",
       "38253  C2406DAB763C43A6E0536CF0D90AD641   busy  2021-05-15T09:00:00.000Z   \n",
       "38254  C2406DAB834843A6E0536CF0D90AD641   busy  2021-05-14T09:00:00.000Z   \n",
       "38255  C2406DAB834843A6E0536CF0D90AD641   busy  2021-05-15T09:00:00.000Z   \n",
       "\n",
       "                            End ValueInteger  \n",
       "0      2021-05-17T19:00:00.000Z            1  \n",
       "1      2021-05-14T19:00:00.000Z            0  \n",
       "2      2021-05-17T19:00:00.000Z            1  \n",
       "3      2021-05-16T19:00:00.000Z            1  \n",
       "4      2021-05-15T19:00:00.000Z            0  \n",
       "...                         ...          ...  \n",
       "38251  2021-05-17T19:00:00.000Z            1  \n",
       "38252  2021-05-16T19:00:00.000Z            0  \n",
       "38253  2021-05-15T19:00:00.000Z            0  \n",
       "38254  2021-05-14T19:00:00.000Z            0  \n",
       "38255  2021-05-15T19:00:00.000Z            0  \n",
       "\n",
       "[38256 rows x 5 columns]"
      ]
     },
     "execution_count": 246,
     "metadata": {},
     "output_type": "execute_result"
    }
   ],
   "source": [
    "Slot_DF"
   ]
  },
  {
   "cell_type": "code",
   "execution_count": 249,
   "metadata": {},
   "outputs": [
    {
     "data": {
      "text/plain": [
       "True    9564\n",
       "Name: id, dtype: int64"
      ]
     },
     "execution_count": 249,
     "metadata": {},
     "output_type": "execute_result"
    }
   ],
   "source": [
    "Schedule_DF['id'].isin(Slot_DF['id']).value_counts()\n",
    "#True    9564\n",
    "#Name: id, dtype: int64"
   ]
  },
  {
   "cell_type": "code",
   "execution_count": 247,
   "metadata": {},
   "outputs": [
    {
     "data": {
      "text/html": [
       "<div>\n",
       "<style scoped>\n",
       "    .dataframe tbody tr th:only-of-type {\n",
       "        vertical-align: middle;\n",
       "    }\n",
       "\n",
       "    .dataframe tbody tr th {\n",
       "        vertical-align: top;\n",
       "    }\n",
       "\n",
       "    .dataframe thead th {\n",
       "        text-align: right;\n",
       "    }\n",
       "</style>\n",
       "<table border=\"1\" class=\"dataframe\">\n",
       "  <thead>\n",
       "    <tr style=\"text-align: right;\">\n",
       "      <th></th>\n",
       "      <th>id_x</th>\n",
       "      <th>Line</th>\n",
       "      <th>City</th>\n",
       "      <th>State</th>\n",
       "      <th>PostalCode</th>\n",
       "      <th>id_y</th>\n",
       "      <th>actor</th>\n",
       "    </tr>\n",
       "  </thead>\n",
       "  <tbody>\n",
       "    <tr>\n",
       "      <th>0</th>\n",
       "      <td>2502</td>\n",
       "      <td>[581 HIGHLAND AVE.]</td>\n",
       "      <td>CHESHIRE</td>\n",
       "      <td>CT</td>\n",
       "      <td>06410</td>\n",
       "      <td>C2406DAB5C9643A6E0536CF0D90AD641</td>\n",
       "      <td>2502</td>\n",
       "    </tr>\n",
       "    <tr>\n",
       "      <th>1</th>\n",
       "      <td>1521</td>\n",
       "      <td>[9140 ROTHBURY DRIVE]</td>\n",
       "      <td>GAITHERSBURG</td>\n",
       "      <td>MD</td>\n",
       "      <td>20886</td>\n",
       "      <td>C2406DAB5C9743A6E0536CF0D90AD641</td>\n",
       "      <td>1521</td>\n",
       "    </tr>\n",
       "    <tr>\n",
       "      <th>2</th>\n",
       "      <td>4365</td>\n",
       "      <td>[709 W. COLLEGE ST.]</td>\n",
       "      <td>PULASKI</td>\n",
       "      <td>TN</td>\n",
       "      <td>38478</td>\n",
       "      <td>C2406DAB5C9843A6E0536CF0D90AD641</td>\n",
       "      <td>4365</td>\n",
       "    </tr>\n",
       "    <tr>\n",
       "      <th>3</th>\n",
       "      <td>1087</td>\n",
       "      <td>[20 FILORS LN.]</td>\n",
       "      <td>STONY POINT</td>\n",
       "      <td>NY</td>\n",
       "      <td>10980</td>\n",
       "      <td>C2406DAB5C9943A6E0536CF0D90AD641</td>\n",
       "      <td>1087</td>\n",
       "    </tr>\n",
       "    <tr>\n",
       "      <th>4</th>\n",
       "      <td>4984</td>\n",
       "      <td>[863 BALTIMORE PIKE]</td>\n",
       "      <td>GLEN MILLS</td>\n",
       "      <td>PA</td>\n",
       "      <td>19342</td>\n",
       "      <td>C2406DAB5C9A43A6E0536CF0D90AD641</td>\n",
       "      <td>4984</td>\n",
       "    </tr>\n",
       "    <tr>\n",
       "      <th>...</th>\n",
       "      <td>...</td>\n",
       "      <td>...</td>\n",
       "      <td>...</td>\n",
       "      <td>...</td>\n",
       "      <td>...</td>\n",
       "      <td>...</td>\n",
       "      <td>...</td>\n",
       "    </tr>\n",
       "    <tr>\n",
       "      <th>9712</th>\n",
       "      <td>3634</td>\n",
       "      <td>[2160 LEE RD]</td>\n",
       "      <td>CLEVELAND HEIGHTS</td>\n",
       "      <td>OH</td>\n",
       "      <td>44118</td>\n",
       "      <td>C2406DAB838443A6E0536CF0D90AD641</td>\n",
       "      <td>3634</td>\n",
       "    </tr>\n",
       "    <tr>\n",
       "      <th>9713</th>\n",
       "      <td>2535</td>\n",
       "      <td>[49 CLAREMONT AVE.]</td>\n",
       "      <td>MONTCLAIR</td>\n",
       "      <td>NJ</td>\n",
       "      <td>07042</td>\n",
       "      <td>C2406DAB838543A6E0536CF0D90AD641</td>\n",
       "      <td>2535</td>\n",
       "    </tr>\n",
       "    <tr>\n",
       "      <th>9714</th>\n",
       "      <td>8875</td>\n",
       "      <td>[3644 EAST OLYMPIC BOULEVARD]</td>\n",
       "      <td>LOS ANGELES</td>\n",
       "      <td>CA</td>\n",
       "      <td>90023</td>\n",
       "      <td>C2406DAB838643A6E0536CF0D90AD641</td>\n",
       "      <td>8875</td>\n",
       "    </tr>\n",
       "    <tr>\n",
       "      <th>9715</th>\n",
       "      <td>675</td>\n",
       "      <td>[159 N. MACDADE BLVD.]</td>\n",
       "      <td>GLENOLDEN</td>\n",
       "      <td>PA</td>\n",
       "      <td>19036</td>\n",
       "      <td>C2406DAB838743A6E0536CF0D90AD641</td>\n",
       "      <td>675</td>\n",
       "    </tr>\n",
       "    <tr>\n",
       "      <th>9716</th>\n",
       "      <td>2004</td>\n",
       "      <td>[3117 LOCKHEED BLVD.]</td>\n",
       "      <td>ALEXANDRIA</td>\n",
       "      <td>VA</td>\n",
       "      <td>22306</td>\n",
       "      <td>C2406DAB838A43A6E0536CF0D90AD641</td>\n",
       "      <td>2004</td>\n",
       "    </tr>\n",
       "  </tbody>\n",
       "</table>\n",
       "<p>9717 rows × 7 columns</p>\n",
       "</div>"
      ],
      "text/plain": [
       "      id_x                           Line               City State PostalCode  \\\n",
       "0     2502            [581 HIGHLAND AVE.]           CHESHIRE    CT      06410   \n",
       "1     1521          [9140 ROTHBURY DRIVE]       GAITHERSBURG    MD      20886   \n",
       "2     4365           [709 W. COLLEGE ST.]            PULASKI    TN      38478   \n",
       "3     1087                [20 FILORS LN.]        STONY POINT    NY      10980   \n",
       "4     4984           [863 BALTIMORE PIKE]         GLEN MILLS    PA      19342   \n",
       "...    ...                            ...                ...   ...        ...   \n",
       "9712  3634                  [2160 LEE RD]  CLEVELAND HEIGHTS    OH      44118   \n",
       "9713  2535            [49 CLAREMONT AVE.]          MONTCLAIR    NJ      07042   \n",
       "9714  8875  [3644 EAST OLYMPIC BOULEVARD]        LOS ANGELES    CA      90023   \n",
       "9715   675         [159 N. MACDADE BLVD.]          GLENOLDEN    PA      19036   \n",
       "9716  2004          [3117 LOCKHEED BLVD.]         ALEXANDRIA    VA      22306   \n",
       "\n",
       "                                  id_y actor  \n",
       "0     C2406DAB5C9643A6E0536CF0D90AD641  2502  \n",
       "1     C2406DAB5C9743A6E0536CF0D90AD641  1521  \n",
       "2     C2406DAB5C9843A6E0536CF0D90AD641  4365  \n",
       "3     C2406DAB5C9943A6E0536CF0D90AD641  1087  \n",
       "4     C2406DAB5C9A43A6E0536CF0D90AD641  4984  \n",
       "...                                ...   ...  \n",
       "9712  C2406DAB838443A6E0536CF0D90AD641  3634  \n",
       "9713  C2406DAB838543A6E0536CF0D90AD641  2535  \n",
       "9714  C2406DAB838643A6E0536CF0D90AD641  8875  \n",
       "9715  C2406DAB838743A6E0536CF0D90AD641   675  \n",
       "9716  C2406DAB838A43A6E0536CF0D90AD641  2004  \n",
       "\n",
       "[9717 rows x 7 columns]"
      ]
     },
     "execution_count": 247,
     "metadata": {},
     "output_type": "execute_result"
    }
   ],
   "source": [
    "Location_DF.merge(Schedule_DF,how='left',left_on='id',right_on='actor')"
   ]
  },
  {
   "cell_type": "code",
   "execution_count": 248,
   "metadata": {},
   "outputs": [
    {
     "data": {
      "text/html": [
       "<div>\n",
       "<style scoped>\n",
       "    .dataframe tbody tr th:only-of-type {\n",
       "        vertical-align: middle;\n",
       "    }\n",
       "\n",
       "    .dataframe tbody tr th {\n",
       "        vertical-align: top;\n",
       "    }\n",
       "\n",
       "    .dataframe thead th {\n",
       "        text-align: right;\n",
       "    }\n",
       "</style>\n",
       "<table border=\"1\" class=\"dataframe\">\n",
       "  <thead>\n",
       "    <tr style=\"text-align: right;\">\n",
       "      <th></th>\n",
       "      <th>id</th>\n",
       "      <th>actor</th>\n",
       "      <th>Status</th>\n",
       "      <th>Start</th>\n",
       "      <th>End</th>\n",
       "      <th>ValueInteger</th>\n",
       "    </tr>\n",
       "  </thead>\n",
       "  <tbody>\n",
       "    <tr>\n",
       "      <th>0</th>\n",
       "      <td>C2406DAB5EA443A6E0536CF0D90AD641</td>\n",
       "      <td>9714</td>\n",
       "      <td>busy</td>\n",
       "      <td>2021-05-14T09:00:00.000Z</td>\n",
       "      <td>2021-05-14T19:00:00.000Z</td>\n",
       "      <td>0</td>\n",
       "    </tr>\n",
       "    <tr>\n",
       "      <th>1</th>\n",
       "      <td>C2406DAB5EA443A6E0536CF0D90AD641</td>\n",
       "      <td>9714</td>\n",
       "      <td>busy</td>\n",
       "      <td>2021-05-15T09:00:00.000Z</td>\n",
       "      <td>2021-05-15T19:00:00.000Z</td>\n",
       "      <td>0</td>\n",
       "    </tr>\n",
       "    <tr>\n",
       "      <th>2</th>\n",
       "      <td>C2406DAB5EA443A6E0536CF0D90AD641</td>\n",
       "      <td>9714</td>\n",
       "      <td>busy</td>\n",
       "      <td>2021-05-16T09:00:00.000Z</td>\n",
       "      <td>2021-05-16T19:00:00.000Z</td>\n",
       "      <td>0</td>\n",
       "    </tr>\n",
       "    <tr>\n",
       "      <th>3</th>\n",
       "      <td>C2406DAB5EA443A6E0536CF0D90AD641</td>\n",
       "      <td>9714</td>\n",
       "      <td>busy</td>\n",
       "      <td>2021-05-17T09:00:00.000Z</td>\n",
       "      <td>2021-05-17T19:00:00.000Z</td>\n",
       "      <td>0</td>\n",
       "    </tr>\n",
       "    <tr>\n",
       "      <th>4</th>\n",
       "      <td>C2406DAB5EA543A6E0536CF0D90AD641</td>\n",
       "      <td>7655</td>\n",
       "      <td>busy</td>\n",
       "      <td>2021-05-14T09:00:00.000Z</td>\n",
       "      <td>2021-05-14T19:00:00.000Z</td>\n",
       "      <td>0</td>\n",
       "    </tr>\n",
       "    <tr>\n",
       "      <th>...</th>\n",
       "      <td>...</td>\n",
       "      <td>...</td>\n",
       "      <td>...</td>\n",
       "      <td>...</td>\n",
       "      <td>...</td>\n",
       "      <td>...</td>\n",
       "    </tr>\n",
       "    <tr>\n",
       "      <th>38251</th>\n",
       "      <td>C2406DAB838743A6E0536CF0D90AD641</td>\n",
       "      <td>675</td>\n",
       "      <td>busy</td>\n",
       "      <td>2021-05-17T09:00:00.000Z</td>\n",
       "      <td>2021-05-17T19:00:00.000Z</td>\n",
       "      <td>0</td>\n",
       "    </tr>\n",
       "    <tr>\n",
       "      <th>38252</th>\n",
       "      <td>C2406DAB838A43A6E0536CF0D90AD641</td>\n",
       "      <td>2004</td>\n",
       "      <td>busy</td>\n",
       "      <td>2021-05-14T09:00:00.000Z</td>\n",
       "      <td>2021-05-14T19:00:00.000Z</td>\n",
       "      <td>0</td>\n",
       "    </tr>\n",
       "    <tr>\n",
       "      <th>38253</th>\n",
       "      <td>C2406DAB838A43A6E0536CF0D90AD641</td>\n",
       "      <td>2004</td>\n",
       "      <td>busy</td>\n",
       "      <td>2021-05-15T09:00:00.000Z</td>\n",
       "      <td>2021-05-15T19:00:00.000Z</td>\n",
       "      <td>0</td>\n",
       "    </tr>\n",
       "    <tr>\n",
       "      <th>38254</th>\n",
       "      <td>C2406DAB838A43A6E0536CF0D90AD641</td>\n",
       "      <td>2004</td>\n",
       "      <td>busy</td>\n",
       "      <td>2021-05-16T09:00:00.000Z</td>\n",
       "      <td>2021-05-16T19:00:00.000Z</td>\n",
       "      <td>0</td>\n",
       "    </tr>\n",
       "    <tr>\n",
       "      <th>38255</th>\n",
       "      <td>C2406DAB838A43A6E0536CF0D90AD641</td>\n",
       "      <td>2004</td>\n",
       "      <td>free</td>\n",
       "      <td>2021-05-17T09:00:00.000Z</td>\n",
       "      <td>2021-05-17T19:00:00.000Z</td>\n",
       "      <td>1</td>\n",
       "    </tr>\n",
       "  </tbody>\n",
       "</table>\n",
       "<p>38256 rows × 6 columns</p>\n",
       "</div>"
      ],
      "text/plain": [
       "                                     id actor Status  \\\n",
       "0      C2406DAB5EA443A6E0536CF0D90AD641  9714   busy   \n",
       "1      C2406DAB5EA443A6E0536CF0D90AD641  9714   busy   \n",
       "2      C2406DAB5EA443A6E0536CF0D90AD641  9714   busy   \n",
       "3      C2406DAB5EA443A6E0536CF0D90AD641  9714   busy   \n",
       "4      C2406DAB5EA543A6E0536CF0D90AD641  7655   busy   \n",
       "...                                 ...   ...    ...   \n",
       "38251  C2406DAB838743A6E0536CF0D90AD641   675   busy   \n",
       "38252  C2406DAB838A43A6E0536CF0D90AD641  2004   busy   \n",
       "38253  C2406DAB838A43A6E0536CF0D90AD641  2004   busy   \n",
       "38254  C2406DAB838A43A6E0536CF0D90AD641  2004   busy   \n",
       "38255  C2406DAB838A43A6E0536CF0D90AD641  2004   free   \n",
       "\n",
       "                          Start                       End ValueInteger  \n",
       "0      2021-05-14T09:00:00.000Z  2021-05-14T19:00:00.000Z            0  \n",
       "1      2021-05-15T09:00:00.000Z  2021-05-15T19:00:00.000Z            0  \n",
       "2      2021-05-16T09:00:00.000Z  2021-05-16T19:00:00.000Z            0  \n",
       "3      2021-05-17T09:00:00.000Z  2021-05-17T19:00:00.000Z            0  \n",
       "4      2021-05-14T09:00:00.000Z  2021-05-14T19:00:00.000Z            0  \n",
       "...                         ...                       ...          ...  \n",
       "38251  2021-05-17T09:00:00.000Z  2021-05-17T19:00:00.000Z            0  \n",
       "38252  2021-05-14T09:00:00.000Z  2021-05-14T19:00:00.000Z            0  \n",
       "38253  2021-05-15T09:00:00.000Z  2021-05-15T19:00:00.000Z            0  \n",
       "38254  2021-05-16T09:00:00.000Z  2021-05-16T19:00:00.000Z            0  \n",
       "38255  2021-05-17T09:00:00.000Z  2021-05-17T19:00:00.000Z            1  \n",
       "\n",
       "[38256 rows x 6 columns]"
      ]
     },
     "execution_count": 248,
     "metadata": {},
     "output_type": "execute_result"
    }
   ],
   "source": [
    "Schedule_DF.merge(Slot_DF,how='inner',left_on='id',right_on='id')"
   ]
  },
  {
   "cell_type": "code",
   "execution_count": 272,
   "metadata": {},
   "outputs": [],
   "source": [
    "DF1=Location_DF.merge(Schedule_DF,how='left',left_on='id',right_on='actor')\n",
    "DF=DF1.merge(Slot_DF,how='inner',left_on='id_y',right_on='id')"
   ]
  },
  {
   "cell_type": "code",
   "execution_count": 279,
   "metadata": {},
   "outputs": [],
   "source": [
    "DF=DF.drop(columns=['id_x','id_y'])"
   ]
  },
  {
   "cell_type": "markdown",
   "metadata": {},
   "source": [
    "# Analysis"
   ]
  },
  {
   "cell_type": "code",
   "execution_count": 282,
   "metadata": {},
   "outputs": [
    {
     "data": {
      "text/html": [
       "<div>\n",
       "<style scoped>\n",
       "    .dataframe tbody tr th:only-of-type {\n",
       "        vertical-align: middle;\n",
       "    }\n",
       "\n",
       "    .dataframe tbody tr th {\n",
       "        vertical-align: top;\n",
       "    }\n",
       "\n",
       "    .dataframe thead th {\n",
       "        text-align: right;\n",
       "    }\n",
       "</style>\n",
       "<table border=\"1\" class=\"dataframe\">\n",
       "  <thead>\n",
       "    <tr style=\"text-align: right;\">\n",
       "      <th></th>\n",
       "      <th>Line</th>\n",
       "      <th>City</th>\n",
       "      <th>State</th>\n",
       "      <th>PostalCode</th>\n",
       "      <th>actor</th>\n",
       "      <th>id</th>\n",
       "      <th>Status</th>\n",
       "      <th>Start</th>\n",
       "      <th>End</th>\n",
       "      <th>ValueInteger</th>\n",
       "    </tr>\n",
       "  </thead>\n",
       "  <tbody>\n",
       "    <tr>\n",
       "      <th>0</th>\n",
       "      <td>[581 HIGHLAND AVE.]</td>\n",
       "      <td>CHESHIRE</td>\n",
       "      <td>CT</td>\n",
       "      <td>06410</td>\n",
       "      <td>2502</td>\n",
       "      <td>C2406DAB5C9643A6E0536CF0D90AD641</td>\n",
       "      <td>busy</td>\n",
       "      <td>2021-05-14 09:00:00</td>\n",
       "      <td>2021-05-14 19:00:00</td>\n",
       "      <td>0</td>\n",
       "    </tr>\n",
       "    <tr>\n",
       "      <th>1</th>\n",
       "      <td>[581 HIGHLAND AVE.]</td>\n",
       "      <td>CHESHIRE</td>\n",
       "      <td>CT</td>\n",
       "      <td>06410</td>\n",
       "      <td>2502</td>\n",
       "      <td>C2406DAB5C9643A6E0536CF0D90AD641</td>\n",
       "      <td>busy</td>\n",
       "      <td>2021-05-15 09:00:00</td>\n",
       "      <td>2021-05-15 19:00:00</td>\n",
       "      <td>0</td>\n",
       "    </tr>\n",
       "    <tr>\n",
       "      <th>2</th>\n",
       "      <td>[581 HIGHLAND AVE.]</td>\n",
       "      <td>CHESHIRE</td>\n",
       "      <td>CT</td>\n",
       "      <td>06410</td>\n",
       "      <td>2502</td>\n",
       "      <td>C2406DAB5C9643A6E0536CF0D90AD641</td>\n",
       "      <td>busy</td>\n",
       "      <td>2021-05-16 09:00:00</td>\n",
       "      <td>2021-05-16 19:00:00</td>\n",
       "      <td>0</td>\n",
       "    </tr>\n",
       "    <tr>\n",
       "      <th>3</th>\n",
       "      <td>[581 HIGHLAND AVE.]</td>\n",
       "      <td>CHESHIRE</td>\n",
       "      <td>CT</td>\n",
       "      <td>06410</td>\n",
       "      <td>2502</td>\n",
       "      <td>C2406DAB5C9643A6E0536CF0D90AD641</td>\n",
       "      <td>busy</td>\n",
       "      <td>2021-05-17 09:00:00</td>\n",
       "      <td>2021-05-17 19:00:00</td>\n",
       "      <td>0</td>\n",
       "    </tr>\n",
       "    <tr>\n",
       "      <th>4</th>\n",
       "      <td>[9140 ROTHBURY DRIVE]</td>\n",
       "      <td>GAITHERSBURG</td>\n",
       "      <td>MD</td>\n",
       "      <td>20886</td>\n",
       "      <td>1521</td>\n",
       "      <td>C2406DAB5C9743A6E0536CF0D90AD641</td>\n",
       "      <td>busy</td>\n",
       "      <td>2021-05-14 09:00:00</td>\n",
       "      <td>2021-05-14 19:00:00</td>\n",
       "      <td>0</td>\n",
       "    </tr>\n",
       "    <tr>\n",
       "      <th>...</th>\n",
       "      <td>...</td>\n",
       "      <td>...</td>\n",
       "      <td>...</td>\n",
       "      <td>...</td>\n",
       "      <td>...</td>\n",
       "      <td>...</td>\n",
       "      <td>...</td>\n",
       "      <td>...</td>\n",
       "      <td>...</td>\n",
       "      <td>...</td>\n",
       "    </tr>\n",
       "    <tr>\n",
       "      <th>38251</th>\n",
       "      <td>[159 N. MACDADE BLVD.]</td>\n",
       "      <td>GLENOLDEN</td>\n",
       "      <td>PA</td>\n",
       "      <td>19036</td>\n",
       "      <td>675</td>\n",
       "      <td>C2406DAB838743A6E0536CF0D90AD641</td>\n",
       "      <td>busy</td>\n",
       "      <td>2021-05-17 09:00:00</td>\n",
       "      <td>2021-05-17 19:00:00</td>\n",
       "      <td>0</td>\n",
       "    </tr>\n",
       "    <tr>\n",
       "      <th>38252</th>\n",
       "      <td>[3117 LOCKHEED BLVD.]</td>\n",
       "      <td>ALEXANDRIA</td>\n",
       "      <td>VA</td>\n",
       "      <td>22306</td>\n",
       "      <td>2004</td>\n",
       "      <td>C2406DAB838A43A6E0536CF0D90AD641</td>\n",
       "      <td>busy</td>\n",
       "      <td>2021-05-14 09:00:00</td>\n",
       "      <td>2021-05-14 19:00:00</td>\n",
       "      <td>0</td>\n",
       "    </tr>\n",
       "    <tr>\n",
       "      <th>38253</th>\n",
       "      <td>[3117 LOCKHEED BLVD.]</td>\n",
       "      <td>ALEXANDRIA</td>\n",
       "      <td>VA</td>\n",
       "      <td>22306</td>\n",
       "      <td>2004</td>\n",
       "      <td>C2406DAB838A43A6E0536CF0D90AD641</td>\n",
       "      <td>busy</td>\n",
       "      <td>2021-05-15 09:00:00</td>\n",
       "      <td>2021-05-15 19:00:00</td>\n",
       "      <td>0</td>\n",
       "    </tr>\n",
       "    <tr>\n",
       "      <th>38254</th>\n",
       "      <td>[3117 LOCKHEED BLVD.]</td>\n",
       "      <td>ALEXANDRIA</td>\n",
       "      <td>VA</td>\n",
       "      <td>22306</td>\n",
       "      <td>2004</td>\n",
       "      <td>C2406DAB838A43A6E0536CF0D90AD641</td>\n",
       "      <td>busy</td>\n",
       "      <td>2021-05-16 09:00:00</td>\n",
       "      <td>2021-05-16 19:00:00</td>\n",
       "      <td>0</td>\n",
       "    </tr>\n",
       "    <tr>\n",
       "      <th>38255</th>\n",
       "      <td>[3117 LOCKHEED BLVD.]</td>\n",
       "      <td>ALEXANDRIA</td>\n",
       "      <td>VA</td>\n",
       "      <td>22306</td>\n",
       "      <td>2004</td>\n",
       "      <td>C2406DAB838A43A6E0536CF0D90AD641</td>\n",
       "      <td>free</td>\n",
       "      <td>2021-05-17 09:00:00</td>\n",
       "      <td>2021-05-17 19:00:00</td>\n",
       "      <td>1</td>\n",
       "    </tr>\n",
       "  </tbody>\n",
       "</table>\n",
       "<p>38256 rows × 10 columns</p>\n",
       "</div>"
      ],
      "text/plain": [
       "                         Line          City State PostalCode actor  \\\n",
       "0         [581 HIGHLAND AVE.]      CHESHIRE    CT      06410  2502   \n",
       "1         [581 HIGHLAND AVE.]      CHESHIRE    CT      06410  2502   \n",
       "2         [581 HIGHLAND AVE.]      CHESHIRE    CT      06410  2502   \n",
       "3         [581 HIGHLAND AVE.]      CHESHIRE    CT      06410  2502   \n",
       "4       [9140 ROTHBURY DRIVE]  GAITHERSBURG    MD      20886  1521   \n",
       "...                       ...           ...   ...        ...   ...   \n",
       "38251  [159 N. MACDADE BLVD.]     GLENOLDEN    PA      19036   675   \n",
       "38252   [3117 LOCKHEED BLVD.]    ALEXANDRIA    VA      22306  2004   \n",
       "38253   [3117 LOCKHEED BLVD.]    ALEXANDRIA    VA      22306  2004   \n",
       "38254   [3117 LOCKHEED BLVD.]    ALEXANDRIA    VA      22306  2004   \n",
       "38255   [3117 LOCKHEED BLVD.]    ALEXANDRIA    VA      22306  2004   \n",
       "\n",
       "                                     id Status               Start  \\\n",
       "0      C2406DAB5C9643A6E0536CF0D90AD641   busy 2021-05-14 09:00:00   \n",
       "1      C2406DAB5C9643A6E0536CF0D90AD641   busy 2021-05-15 09:00:00   \n",
       "2      C2406DAB5C9643A6E0536CF0D90AD641   busy 2021-05-16 09:00:00   \n",
       "3      C2406DAB5C9643A6E0536CF0D90AD641   busy 2021-05-17 09:00:00   \n",
       "4      C2406DAB5C9743A6E0536CF0D90AD641   busy 2021-05-14 09:00:00   \n",
       "...                                 ...    ...                 ...   \n",
       "38251  C2406DAB838743A6E0536CF0D90AD641   busy 2021-05-17 09:00:00   \n",
       "38252  C2406DAB838A43A6E0536CF0D90AD641   busy 2021-05-14 09:00:00   \n",
       "38253  C2406DAB838A43A6E0536CF0D90AD641   busy 2021-05-15 09:00:00   \n",
       "38254  C2406DAB838A43A6E0536CF0D90AD641   busy 2021-05-16 09:00:00   \n",
       "38255  C2406DAB838A43A6E0536CF0D90AD641   free 2021-05-17 09:00:00   \n",
       "\n",
       "                      End ValueInteger  \n",
       "0     2021-05-14 19:00:00            0  \n",
       "1     2021-05-15 19:00:00            0  \n",
       "2     2021-05-16 19:00:00            0  \n",
       "3     2021-05-17 19:00:00            0  \n",
       "4     2021-05-14 19:00:00            0  \n",
       "...                   ...          ...  \n",
       "38251 2021-05-17 19:00:00            0  \n",
       "38252 2021-05-14 19:00:00            0  \n",
       "38253 2021-05-15 19:00:00            0  \n",
       "38254 2021-05-16 19:00:00            0  \n",
       "38255 2021-05-17 19:00:00            1  \n",
       "\n",
       "[38256 rows x 10 columns]"
      ]
     },
     "execution_count": 282,
     "metadata": {},
     "output_type": "execute_result"
    }
   ],
   "source": [
    "DF"
   ]
  },
  {
   "cell_type": "code",
   "execution_count": 285,
   "metadata": {},
   "outputs": [
    {
     "data": {
      "text/html": [
       "<div>\n",
       "<style scoped>\n",
       "    .dataframe tbody tr th:only-of-type {\n",
       "        vertical-align: middle;\n",
       "    }\n",
       "\n",
       "    .dataframe tbody tr th {\n",
       "        vertical-align: top;\n",
       "    }\n",
       "\n",
       "    .dataframe thead th {\n",
       "        text-align: right;\n",
       "    }\n",
       "</style>\n",
       "<table border=\"1\" class=\"dataframe\">\n",
       "  <thead>\n",
       "    <tr style=\"text-align: right;\">\n",
       "      <th>Status</th>\n",
       "      <th>busy</th>\n",
       "      <th>free</th>\n",
       "    </tr>\n",
       "    <tr>\n",
       "      <th>State</th>\n",
       "      <th></th>\n",
       "      <th></th>\n",
       "    </tr>\n",
       "  </thead>\n",
       "  <tbody>\n",
       "    <tr>\n",
       "      <th>AK</th>\n",
       "      <td>3.0</td>\n",
       "      <td>9.0</td>\n",
       "    </tr>\n",
       "    <tr>\n",
       "      <th>AL</th>\n",
       "      <td>392.0</td>\n",
       "      <td>308.0</td>\n",
       "    </tr>\n",
       "    <tr>\n",
       "      <th>AR</th>\n",
       "      <td>70.0</td>\n",
       "      <td>22.0</td>\n",
       "    </tr>\n",
       "    <tr>\n",
       "      <th>AZ</th>\n",
       "      <td>507.0</td>\n",
       "      <td>253.0</td>\n",
       "    </tr>\n",
       "    <tr>\n",
       "      <th>CA</th>\n",
       "      <td>4080.0</td>\n",
       "      <td>488.0</td>\n",
       "    </tr>\n",
       "    <tr>\n",
       "      <th>CO</th>\n",
       "      <td>154.0</td>\n",
       "      <td>50.0</td>\n",
       "    </tr>\n",
       "    <tr>\n",
       "      <th>CT</th>\n",
       "      <td>286.0</td>\n",
       "      <td>414.0</td>\n",
       "    </tr>\n",
       "    <tr>\n",
       "      <th>DC</th>\n",
       "      <td>227.0</td>\n",
       "      <td>9.0</td>\n",
       "    </tr>\n",
       "    <tr>\n",
       "      <th>DE</th>\n",
       "      <td>50.0</td>\n",
       "      <td>30.0</td>\n",
       "    </tr>\n",
       "    <tr>\n",
       "      <th>FL</th>\n",
       "      <td>2741.0</td>\n",
       "      <td>555.0</td>\n",
       "    </tr>\n",
       "    <tr>\n",
       "      <th>GA</th>\n",
       "      <td>977.0</td>\n",
       "      <td>379.0</td>\n",
       "    </tr>\n",
       "    <tr>\n",
       "      <th>HI</th>\n",
       "      <td>203.0</td>\n",
       "      <td>73.0</td>\n",
       "    </tr>\n",
       "    <tr>\n",
       "      <th>IA</th>\n",
       "      <td>117.0</td>\n",
       "      <td>35.0</td>\n",
       "    </tr>\n",
       "    <tr>\n",
       "      <th>ID</th>\n",
       "      <td>4.0</td>\n",
       "      <td>4.0</td>\n",
       "    </tr>\n",
       "    <tr>\n",
       "      <th>IL</th>\n",
       "      <td>1053.0</td>\n",
       "      <td>423.0</td>\n",
       "    </tr>\n",
       "    <tr>\n",
       "      <th>IN</th>\n",
       "      <td>603.0</td>\n",
       "      <td>665.0</td>\n",
       "    </tr>\n",
       "    <tr>\n",
       "      <th>KS</th>\n",
       "      <td>176.0</td>\n",
       "      <td>40.0</td>\n",
       "    </tr>\n",
       "    <tr>\n",
       "      <th>KY</th>\n",
       "      <td>136.0</td>\n",
       "      <td>184.0</td>\n",
       "    </tr>\n",
       "    <tr>\n",
       "      <th>LA</th>\n",
       "      <td>210.0</td>\n",
       "      <td>310.0</td>\n",
       "    </tr>\n",
       "    <tr>\n",
       "      <th>MA</th>\n",
       "      <td>1231.0</td>\n",
       "      <td>365.0</td>\n",
       "    </tr>\n",
       "    <tr>\n",
       "      <th>MD</th>\n",
       "      <td>862.0</td>\n",
       "      <td>22.0</td>\n",
       "    </tr>\n",
       "    <tr>\n",
       "      <th>ME</th>\n",
       "      <td>63.0</td>\n",
       "      <td>29.0</td>\n",
       "    </tr>\n",
       "    <tr>\n",
       "      <th>MI</th>\n",
       "      <td>363.0</td>\n",
       "      <td>801.0</td>\n",
       "    </tr>\n",
       "    <tr>\n",
       "      <th>MN</th>\n",
       "      <td>391.0</td>\n",
       "      <td>81.0</td>\n",
       "    </tr>\n",
       "    <tr>\n",
       "      <th>MO</th>\n",
       "      <td>460.0</td>\n",
       "      <td>300.0</td>\n",
       "    </tr>\n",
       "    <tr>\n",
       "      <th>MS</th>\n",
       "      <td>75.0</td>\n",
       "      <td>153.0</td>\n",
       "    </tr>\n",
       "    <tr>\n",
       "      <th>MT</th>\n",
       "      <td>19.0</td>\n",
       "      <td>37.0</td>\n",
       "    </tr>\n",
       "    <tr>\n",
       "      <th>NC</th>\n",
       "      <td>730.0</td>\n",
       "      <td>702.0</td>\n",
       "    </tr>\n",
       "    <tr>\n",
       "      <th>ND</th>\n",
       "      <td>16.0</td>\n",
       "      <td>8.0</td>\n",
       "    </tr>\n",
       "    <tr>\n",
       "      <th>NE</th>\n",
       "      <td>85.0</td>\n",
       "      <td>27.0</td>\n",
       "    </tr>\n",
       "    <tr>\n",
       "      <th>NH</th>\n",
       "      <td>96.0</td>\n",
       "      <td>92.0</td>\n",
       "    </tr>\n",
       "    <tr>\n",
       "      <th>NJ</th>\n",
       "      <td>1259.0</td>\n",
       "      <td>101.0</td>\n",
       "    </tr>\n",
       "    <tr>\n",
       "      <th>NM</th>\n",
       "      <td>67.0</td>\n",
       "      <td>13.0</td>\n",
       "    </tr>\n",
       "    <tr>\n",
       "      <th>NV</th>\n",
       "      <td>349.0</td>\n",
       "      <td>19.0</td>\n",
       "    </tr>\n",
       "    <tr>\n",
       "      <th>NY</th>\n",
       "      <td>2059.0</td>\n",
       "      <td>157.0</td>\n",
       "    </tr>\n",
       "    <tr>\n",
       "      <th>OH</th>\n",
       "      <td>1002.0</td>\n",
       "      <td>522.0</td>\n",
       "    </tr>\n",
       "    <tr>\n",
       "      <th>OK</th>\n",
       "      <td>187.0</td>\n",
       "      <td>113.0</td>\n",
       "    </tr>\n",
       "    <tr>\n",
       "      <th>OR</th>\n",
       "      <td>68.0</td>\n",
       "      <td>16.0</td>\n",
       "    </tr>\n",
       "    <tr>\n",
       "      <th>PA</th>\n",
       "      <td>1352.0</td>\n",
       "      <td>432.0</td>\n",
       "    </tr>\n",
       "    <tr>\n",
       "      <th>PR</th>\n",
       "      <td>82.0</td>\n",
       "      <td>6.0</td>\n",
       "    </tr>\n",
       "    <tr>\n",
       "      <th>RI</th>\n",
       "      <td>181.0</td>\n",
       "      <td>63.0</td>\n",
       "    </tr>\n",
       "    <tr>\n",
       "      <th>SC</th>\n",
       "      <td>461.0</td>\n",
       "      <td>351.0</td>\n",
       "    </tr>\n",
       "    <tr>\n",
       "      <th>SD</th>\n",
       "      <td>8.0</td>\n",
       "      <td>4.0</td>\n",
       "    </tr>\n",
       "    <tr>\n",
       "      <th>TN</th>\n",
       "      <td>290.0</td>\n",
       "      <td>338.0</td>\n",
       "    </tr>\n",
       "    <tr>\n",
       "      <th>TX</th>\n",
       "      <td>2979.0</td>\n",
       "      <td>305.0</td>\n",
       "    </tr>\n",
       "    <tr>\n",
       "      <th>UT</th>\n",
       "      <td>105.0</td>\n",
       "      <td>11.0</td>\n",
       "    </tr>\n",
       "    <tr>\n",
       "      <th>VA</th>\n",
       "      <td>1169.0</td>\n",
       "      <td>191.0</td>\n",
       "    </tr>\n",
       "    <tr>\n",
       "      <th>VT</th>\n",
       "      <td>27.0</td>\n",
       "      <td>9.0</td>\n",
       "    </tr>\n",
       "    <tr>\n",
       "      <th>WA</th>\n",
       "      <td>155.0</td>\n",
       "      <td>17.0</td>\n",
       "    </tr>\n",
       "    <tr>\n",
       "      <th>WI</th>\n",
       "      <td>151.0</td>\n",
       "      <td>153.0</td>\n",
       "    </tr>\n",
       "    <tr>\n",
       "      <th>WV</th>\n",
       "      <td>123.0</td>\n",
       "      <td>105.0</td>\n",
       "    </tr>\n",
       "    <tr>\n",
       "      <th>WY</th>\n",
       "      <td>8.0</td>\n",
       "      <td>NaN</td>\n",
       "    </tr>\n",
       "  </tbody>\n",
       "</table>\n",
       "</div>"
      ],
      "text/plain": [
       "Status    busy   free\n",
       "State                \n",
       "AK         3.0    9.0\n",
       "AL       392.0  308.0\n",
       "AR        70.0   22.0\n",
       "AZ       507.0  253.0\n",
       "CA      4080.0  488.0\n",
       "CO       154.0   50.0\n",
       "CT       286.0  414.0\n",
       "DC       227.0    9.0\n",
       "DE        50.0   30.0\n",
       "FL      2741.0  555.0\n",
       "GA       977.0  379.0\n",
       "HI       203.0   73.0\n",
       "IA       117.0   35.0\n",
       "ID         4.0    4.0\n",
       "IL      1053.0  423.0\n",
       "IN       603.0  665.0\n",
       "KS       176.0   40.0\n",
       "KY       136.0  184.0\n",
       "LA       210.0  310.0\n",
       "MA      1231.0  365.0\n",
       "MD       862.0   22.0\n",
       "ME        63.0   29.0\n",
       "MI       363.0  801.0\n",
       "MN       391.0   81.0\n",
       "MO       460.0  300.0\n",
       "MS        75.0  153.0\n",
       "MT        19.0   37.0\n",
       "NC       730.0  702.0\n",
       "ND        16.0    8.0\n",
       "NE        85.0   27.0\n",
       "NH        96.0   92.0\n",
       "NJ      1259.0  101.0\n",
       "NM        67.0   13.0\n",
       "NV       349.0   19.0\n",
       "NY      2059.0  157.0\n",
       "OH      1002.0  522.0\n",
       "OK       187.0  113.0\n",
       "OR        68.0   16.0\n",
       "PA      1352.0  432.0\n",
       "PR        82.0    6.0\n",
       "RI       181.0   63.0\n",
       "SC       461.0  351.0\n",
       "SD         8.0    4.0\n",
       "TN       290.0  338.0\n",
       "TX      2979.0  305.0\n",
       "UT       105.0   11.0\n",
       "VA      1169.0  191.0\n",
       "VT        27.0    9.0\n",
       "WA       155.0   17.0\n",
       "WI       151.0  153.0\n",
       "WV       123.0  105.0\n",
       "WY         8.0    NaN"
      ]
     },
     "execution_count": 285,
     "metadata": {},
     "output_type": "execute_result"
    }
   ],
   "source": [
    "pd.pivot_table(DF,values='id',index='State',columns='Status',aggfunc='count')"
   ]
  },
  {
   "cell_type": "code",
   "execution_count": null,
   "metadata": {},
   "outputs": [],
   "source": []
  }
 ],
 "metadata": {
  "kernelspec": {
   "display_name": "Python 3",
   "language": "python",
   "name": "python3"
  },
  "language_info": {
   "codemirror_mode": {
    "name": "ipython",
    "version": 3
   },
   "file_extension": ".py",
   "mimetype": "text/x-python",
   "name": "python",
   "nbconvert_exporter": "python",
   "pygments_lexer": "ipython3",
   "version": "3.7.4"
  },
  "toc": {
   "base_numbering": 1,
   "nav_menu": {},
   "number_sections": true,
   "sideBar": true,
   "skip_h1_title": false,
   "title_cell": "Table of Contents",
   "title_sidebar": "Contents",
   "toc_cell": false,
   "toc_position": {
    "height": "calc(100% - 180px)",
    "left": "10px",
    "top": "150px",
    "width": "166.286px"
   },
   "toc_section_display": true,
   "toc_window_display": true
  }
 },
 "nbformat": 4,
 "nbformat_minor": 2
}
