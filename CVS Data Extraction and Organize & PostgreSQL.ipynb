{
 "cells": [
  {
   "cell_type": "markdown",
   "metadata": {},
   "source": [
    "# Imoprt CVS Information Page"
   ]
  },
  {
   "cell_type": "markdown",
   "metadata": {},
   "source": [
    "Purpose of this Project: Extract Vaccine appointment info from the CVS. CVS data team has provide the links of appointment, slot and schedule. For more information please refer to https://developer.cvshealth.com/covid19/cdc/bulk-publish\n",
    "\n",
    "Key Point:\n",
    "Json File\n",
    "Ndjson File\n"
   ]
  },
  {
   "cell_type": "code",
   "execution_count": 21,
   "metadata": {},
   "outputs": [],
   "source": [
    "import requests\n",
    "import json\n",
    "import pandas as pd\n",
    "import ndjson  ## Location Schedule and Slot are the Ndjson format\n",
    "from datetime import datetime\n",
    "from datetime import date"
   ]
  },
  {
   "cell_type": "code",
   "execution_count": 22,
   "metadata": {},
   "outputs": [],
   "source": [
    "re=requests.get(\"https://www.cvs.com/immunizations/inventory/data/$bulk-publish\")"
   ]
  },
  {
   "cell_type": "code",
   "execution_count": 23,
   "metadata": {},
   "outputs": [
    {
     "data": {
      "text/plain": [
       "200"
      ]
     },
     "execution_count": 23,
     "metadata": {},
     "output_type": "execute_result"
    }
   ],
   "source": [
    "# Check the status\n",
    "re.status_code"
   ]
  },
  {
   "cell_type": "code",
   "execution_count": 24,
   "metadata": {},
   "outputs": [
    {
     "data": {
      "text/plain": [
       "{'transactionTime': '2021-06-19T22:06:29.534Z',\n",
       " 'request': 'https://www.cvs.com/immunizations/inventory/data/$bulk-publish',\n",
       " 'output': [{'type': 'Location',\n",
       "   'url': 'https://www.cvs.com/immunizations/inventory/data/location_file_06192021150629.ndjson'},\n",
       "  {'type': 'Schedule',\n",
       "   'url': 'https://www.cvs.com/immunizations/inventory/data/schedule_file_06192021150629.ndjson'},\n",
       "  {'type': 'Slot',\n",
       "   'url': 'https://www.cvs.com/immunizations/inventory/data/slot_file_06192021150629.ndjson'}],\n",
       " 'error': []}"
      ]
     },
     "execution_count": 24,
     "metadata": {},
     "output_type": "execute_result"
    }
   ],
   "source": [
    "re.json()"
   ]
  },
  {
   "cell_type": "code",
   "execution_count": 25,
   "metadata": {},
   "outputs": [
    {
     "data": {
      "text/plain": [
       "[{'type': 'Location',\n",
       "  'url': 'https://www.cvs.com/immunizations/inventory/data/location_file_06192021150629.ndjson'},\n",
       " {'type': 'Schedule',\n",
       "  'url': 'https://www.cvs.com/immunizations/inventory/data/schedule_file_06192021150629.ndjson'},\n",
       " {'type': 'Slot',\n",
       "  'url': 'https://www.cvs.com/immunizations/inventory/data/slot_file_06192021150629.ndjson'}]"
      ]
     },
     "execution_count": 25,
     "metadata": {},
     "output_type": "execute_result"
    }
   ],
   "source": [
    "re.json()['output']"
   ]
  },
  {
   "cell_type": "code",
   "execution_count": 26,
   "metadata": {},
   "outputs": [],
   "source": [
    "Type=[]\n",
    "Url=[]\n",
    "for i in re.json()['output']:\n",
    "    Type.append(i['type'])\n",
    "    Url.append(i['url'])"
   ]
  },
  {
   "cell_type": "code",
   "execution_count": 27,
   "metadata": {},
   "outputs": [
    {
     "data": {
      "text/plain": [
       "['Location', 'Schedule', 'Slot']"
      ]
     },
     "execution_count": 27,
     "metadata": {},
     "output_type": "execute_result"
    }
   ],
   "source": [
    "Type"
   ]
  },
  {
   "cell_type": "code",
   "execution_count": 28,
   "metadata": {},
   "outputs": [
    {
     "data": {
      "text/plain": [
       "['https://www.cvs.com/immunizations/inventory/data/location_file_06192021150629.ndjson',\n",
       " 'https://www.cvs.com/immunizations/inventory/data/schedule_file_06192021150629.ndjson',\n",
       " 'https://www.cvs.com/immunizations/inventory/data/slot_file_06192021150629.ndjson']"
      ]
     },
     "execution_count": 28,
     "metadata": {},
     "output_type": "execute_result"
    }
   ],
   "source": [
    "Url"
   ]
  },
  {
   "cell_type": "code",
   "execution_count": 29,
   "metadata": {},
   "outputs": [],
   "source": [
    "df=pd.DataFrame(Url,columns=['Url'],index=Type)\n",
    "#set Type as index"
   ]
  },
  {
   "cell_type": "code",
   "execution_count": 30,
   "metadata": {},
   "outputs": [
    {
     "data": {
      "text/plain": [
       "'https://www.cvs.com/immunizations/inventory/data/location_file_06192021150629.ndjson'"
      ]
     },
     "execution_count": 30,
     "metadata": {},
     "output_type": "execute_result"
    }
   ],
   "source": [
    "df.loc['Location'][\"Url\"]  # becasue the type is Index"
   ]
  },
  {
   "cell_type": "code",
   "execution_count": 31,
   "metadata": {},
   "outputs": [
    {
     "data": {
      "text/plain": [
       "'https://www.cvs.com/immunizations/inventory/data/schedule_file_06192021150629.ndjson'"
      ]
     },
     "execution_count": 31,
     "metadata": {},
     "output_type": "execute_result"
    }
   ],
   "source": [
    "df.loc['Schedule'][\"Url\"]"
   ]
  },
  {
   "cell_type": "code",
   "execution_count": 32,
   "metadata": {},
   "outputs": [
    {
     "data": {
      "text/plain": [
       "'https://www.cvs.com/immunizations/inventory/data/slot_file_06192021150629.ndjson'"
      ]
     },
     "execution_count": 32,
     "metadata": {},
     "output_type": "execute_result"
    }
   ],
   "source": [
    "df.loc['Slot']['Url']"
   ]
  },
  {
   "cell_type": "code",
   "execution_count": 33,
   "metadata": {},
   "outputs": [
    {
     "data": {
      "text/plain": [
       "<Response [200]>"
      ]
     },
     "execution_count": 33,
     "metadata": {},
     "output_type": "execute_result"
    }
   ],
   "source": [
    "requests.get(df.loc['Location'][\"Url\"])"
   ]
  },
  {
   "cell_type": "markdown",
   "metadata": {},
   "source": [
    "# Import"
   ]
  },
  {
   "cell_type": "code",
   "execution_count": 34,
   "metadata": {},
   "outputs": [],
   "source": [
    "Location_re=requests.get(df.loc['Location'][\"Url\"])\n",
    "# there are ndjson file\n",
    "#Location_re.json()     will return no value, so I used .text without .json()\n",
    "Schedule_re=requests.get(df.loc['Schedule'][\"Url\"])\n",
    "Slot_re=requests.get(df.loc['Slot'][\"Url\"])"
   ]
  },
  {
   "cell_type": "code",
   "execution_count": 35,
   "metadata": {},
   "outputs": [],
   "source": [
    "#Location_re.text"
   ]
  },
  {
   "cell_type": "markdown",
   "metadata": {},
   "source": [
    "## Convert String to Ndjson Format"
   ]
  },
  {
   "cell_type": "markdown",
   "metadata": {},
   "source": [
    "### Location"
   ]
  },
  {
   "cell_type": "code",
   "execution_count": null,
   "metadata": {
    "scrolled": true
   },
   "outputs": [],
   "source": [
    "ndjson.loads(Location_re.text)[0]\n",
    "#The ndjson file are different from json file, the boundary is \",\", but also be careful of the \",\""
   ]
  },
  {
   "cell_type": "code",
   "execution_count": null,
   "metadata": {},
   "outputs": [],
   "source": [
    "ndjson.loads(Location_re.text)[0].keys()"
   ]
  },
  {
   "cell_type": "code",
   "execution_count": null,
   "metadata": {},
   "outputs": [],
   "source": [
    "ndjson.loads(Location_re.text)[0]['telecom']\n",
    "#type(ndjson.loads(Location_re.text)[0]['telecom'])  ## It is the list"
   ]
  },
  {
   "cell_type": "code",
   "execution_count": null,
   "metadata": {},
   "outputs": [],
   "source": [
    "ndjson.loads(Location_re.text)[0]['telecom'][0]\n",
    "#type(ndjson.loads(Location_re.text)[0]['telecom'][0]) ## It is the dict"
   ]
  },
  {
   "cell_type": "code",
   "execution_count": null,
   "metadata": {},
   "outputs": [],
   "source": [
    "ndjson.loads(Location_re.text)[0]['telecom'][0]['value']"
   ]
  },
  {
   "cell_type": "code",
   "execution_count": null,
   "metadata": {},
   "outputs": [],
   "source": [
    "ndjson.loads(Location_re.text)[0]['address']['line'][0]"
   ]
  },
  {
   "cell_type": "markdown",
   "metadata": {},
   "source": [
    "### Schedule"
   ]
  },
  {
   "cell_type": "code",
   "execution_count": null,
   "metadata": {},
   "outputs": [],
   "source": [
    "ndjson.loads(Schedule_re.text)[0]"
   ]
  },
  {
   "cell_type": "code",
   "execution_count": null,
   "metadata": {},
   "outputs": [],
   "source": [
    "ndjson.loads(Schedule_re.text)[0].keys()"
   ]
  },
  {
   "cell_type": "code",
   "execution_count": null,
   "metadata": {},
   "outputs": [],
   "source": [
    "ndjson.loads(Schedule_re.text)[0]['actor'][0]['reference'].split('/')[1]\n",
    "# In the reference: the location/9714, we only need the number after /"
   ]
  },
  {
   "cell_type": "code",
   "execution_count": null,
   "metadata": {},
   "outputs": [],
   "source": [
    "ndjson.loads(Schedule_re.text)[0]['id']"
   ]
  },
  {
   "cell_type": "markdown",
   "metadata": {},
   "source": [
    "### Slot"
   ]
  },
  {
   "cell_type": "code",
   "execution_count": null,
   "metadata": {
    "scrolled": true
   },
   "outputs": [],
   "source": [
    "ndjson.loads(Slot_re.text)[0]"
   ]
  },
  {
   "cell_type": "code",
   "execution_count": null,
   "metadata": {
    "scrolled": true
   },
   "outputs": [],
   "source": [
    "ndjson.loads(Slot_re.text)[0].keys()"
   ]
  },
  {
   "cell_type": "code",
   "execution_count": null,
   "metadata": {
    "scrolled": true
   },
   "outputs": [],
   "source": [
    "ndjson.loads(Slot_re.text)[0]['schedule']['reference'].split('/')[1]"
   ]
  },
  {
   "cell_type": "code",
   "execution_count": null,
   "metadata": {},
   "outputs": [],
   "source": [
    "ndjson.loads(Slot_re.text)[0]['status']"
   ]
  },
  {
   "cell_type": "code",
   "execution_count": null,
   "metadata": {},
   "outputs": [],
   "source": [
    "ndjson.loads(Slot_re.text)[0]['start']"
   ]
  },
  {
   "cell_type": "code",
   "execution_count": null,
   "metadata": {},
   "outputs": [],
   "source": [
    "ndjson.loads(Slot_re.text)[0]['end']"
   ]
  },
  {
   "cell_type": "code",
   "execution_count": null,
   "metadata": {},
   "outputs": [],
   "source": [
    "ndjson.loads(Slot_re.text)[0]['extension'][1]['valueInteger']"
   ]
  },
  {
   "cell_type": "markdown",
   "metadata": {},
   "source": [
    "## Create For Loop to organize information of Locations"
   ]
  },
  {
   "cell_type": "code",
   "execution_count": 36,
   "metadata": {},
   "outputs": [],
   "source": [
    "Locations_Info=[]\n",
    "for Locations in ndjson.loads(Location_re.text):\n",
    "    Detail_Info={'id':Locations['id'],\n",
    "     'Line':Locations['address']['line'][0],\n",
    "     'City':Locations['address']['city'],\n",
    "     'State':Locations['address']['state'],\n",
    "     'PostalCode':Locations['address']['postalCode'],\n",
    "         }\n",
    "    Locations_Info.append(Detail_Info)"
   ]
  },
  {
   "cell_type": "code",
   "execution_count": 37,
   "metadata": {},
   "outputs": [],
   "source": [
    "#Locations_Info"
   ]
  },
  {
   "cell_type": "code",
   "execution_count": 38,
   "metadata": {},
   "outputs": [],
   "source": [
    "Location_DF=pd.DataFrame(Locations_Info)  ## Becasue Locations_Info is the List and dic is inside of this List"
   ]
  },
  {
   "cell_type": "code",
   "execution_count": 39,
   "metadata": {
    "scrolled": false
   },
   "outputs": [
    {
     "data": {
      "text/html": [
       "<div>\n",
       "<style scoped>\n",
       "    .dataframe tbody tr th:only-of-type {\n",
       "        vertical-align: middle;\n",
       "    }\n",
       "\n",
       "    .dataframe tbody tr th {\n",
       "        vertical-align: top;\n",
       "    }\n",
       "\n",
       "    .dataframe thead th {\n",
       "        text-align: right;\n",
       "    }\n",
       "</style>\n",
       "<table border=\"1\" class=\"dataframe\">\n",
       "  <thead>\n",
       "    <tr style=\"text-align: right;\">\n",
       "      <th></th>\n",
       "      <th>id</th>\n",
       "      <th>Line</th>\n",
       "      <th>City</th>\n",
       "      <th>State</th>\n",
       "      <th>PostalCode</th>\n",
       "    </tr>\n",
       "  </thead>\n",
       "  <tbody>\n",
       "    <tr>\n",
       "      <th>0</th>\n",
       "      <td>2502</td>\n",
       "      <td>581 HIGHLAND AVE.</td>\n",
       "      <td>CHESHIRE</td>\n",
       "      <td>CT</td>\n",
       "      <td>06410</td>\n",
       "    </tr>\n",
       "    <tr>\n",
       "      <th>1</th>\n",
       "      <td>1521</td>\n",
       "      <td>9140 ROTHBURY DRIVE</td>\n",
       "      <td>GAITHERSBURG</td>\n",
       "      <td>MD</td>\n",
       "      <td>20886</td>\n",
       "    </tr>\n",
       "    <tr>\n",
       "      <th>2</th>\n",
       "      <td>4365</td>\n",
       "      <td>709 W. COLLEGE ST.</td>\n",
       "      <td>PULASKI</td>\n",
       "      <td>TN</td>\n",
       "      <td>38478</td>\n",
       "    </tr>\n",
       "    <tr>\n",
       "      <th>3</th>\n",
       "      <td>1087</td>\n",
       "      <td>20 FILORS LN.</td>\n",
       "      <td>STONY POINT</td>\n",
       "      <td>NY</td>\n",
       "      <td>10980</td>\n",
       "    </tr>\n",
       "    <tr>\n",
       "      <th>4</th>\n",
       "      <td>4984</td>\n",
       "      <td>863 BALTIMORE PIKE</td>\n",
       "      <td>GLEN MILLS</td>\n",
       "      <td>PA</td>\n",
       "      <td>19342</td>\n",
       "    </tr>\n",
       "    <tr>\n",
       "      <th>...</th>\n",
       "      <td>...</td>\n",
       "      <td>...</td>\n",
       "      <td>...</td>\n",
       "      <td>...</td>\n",
       "      <td>...</td>\n",
       "    </tr>\n",
       "    <tr>\n",
       "      <th>9715</th>\n",
       "      <td>3634</td>\n",
       "      <td>2160 LEE RD</td>\n",
       "      <td>CLEVELAND HEIGHTS</td>\n",
       "      <td>OH</td>\n",
       "      <td>44118</td>\n",
       "    </tr>\n",
       "    <tr>\n",
       "      <th>9716</th>\n",
       "      <td>2535</td>\n",
       "      <td>49 CLAREMONT AVE.</td>\n",
       "      <td>MONTCLAIR</td>\n",
       "      <td>NJ</td>\n",
       "      <td>07042</td>\n",
       "    </tr>\n",
       "    <tr>\n",
       "      <th>9717</th>\n",
       "      <td>8875</td>\n",
       "      <td>3644 EAST OLYMPIC BOULEVARD</td>\n",
       "      <td>LOS ANGELES</td>\n",
       "      <td>CA</td>\n",
       "      <td>90023</td>\n",
       "    </tr>\n",
       "    <tr>\n",
       "      <th>9718</th>\n",
       "      <td>675</td>\n",
       "      <td>159 N. MACDADE BLVD.</td>\n",
       "      <td>GLENOLDEN</td>\n",
       "      <td>PA</td>\n",
       "      <td>19036</td>\n",
       "    </tr>\n",
       "    <tr>\n",
       "      <th>9719</th>\n",
       "      <td>2004</td>\n",
       "      <td>3117 LOCKHEED BLVD.</td>\n",
       "      <td>ALEXANDRIA</td>\n",
       "      <td>VA</td>\n",
       "      <td>22306</td>\n",
       "    </tr>\n",
       "  </tbody>\n",
       "</table>\n",
       "<p>9720 rows × 5 columns</p>\n",
       "</div>"
      ],
      "text/plain": [
       "        id                         Line               City State PostalCode\n",
       "0     2502            581 HIGHLAND AVE.           CHESHIRE    CT      06410\n",
       "1     1521          9140 ROTHBURY DRIVE       GAITHERSBURG    MD      20886\n",
       "2     4365           709 W. COLLEGE ST.            PULASKI    TN      38478\n",
       "3     1087                20 FILORS LN.        STONY POINT    NY      10980\n",
       "4     4984           863 BALTIMORE PIKE         GLEN MILLS    PA      19342\n",
       "...    ...                          ...                ...   ...        ...\n",
       "9715  3634                  2160 LEE RD  CLEVELAND HEIGHTS    OH      44118\n",
       "9716  2535            49 CLAREMONT AVE.          MONTCLAIR    NJ      07042\n",
       "9717  8875  3644 EAST OLYMPIC BOULEVARD        LOS ANGELES    CA      90023\n",
       "9718   675         159 N. MACDADE BLVD.          GLENOLDEN    PA      19036\n",
       "9719  2004          3117 LOCKHEED BLVD.         ALEXANDRIA    VA      22306\n",
       "\n",
       "[9720 rows x 5 columns]"
      ]
     },
     "execution_count": 39,
     "metadata": {},
     "output_type": "execute_result"
    }
   ],
   "source": [
    "Location_DF"
   ]
  },
  {
   "cell_type": "code",
   "execution_count": null,
   "metadata": {},
   "outputs": [],
   "source": [
    "Location_DF['State'].value_counts()\n",
    "#Location_DF['State'].value_counts().sort_values()"
   ]
  },
  {
   "cell_type": "code",
   "execution_count": null,
   "metadata": {},
   "outputs": [],
   "source": [
    "Location_DF.groupby([\"State\",\"City\"]).count().reset_index()"
   ]
  },
  {
   "cell_type": "markdown",
   "metadata": {},
   "source": [
    "## Create For Loop to organize information of Schedules"
   ]
  },
  {
   "cell_type": "code",
   "execution_count": null,
   "metadata": {},
   "outputs": [],
   "source": [
    "Schedule_Info=[]\n",
    "for Schedules in ndjson.loads(Schedule_re.text):\n",
    "    Detail_Info={'id':Schedules['id'],\n",
    "                 'actor':Schedules['actor'][0]['reference'].split('/')[1]\n",
    "         }\n",
    "    Schedule_Info.append(Detail_Info)"
   ]
  },
  {
   "cell_type": "code",
   "execution_count": null,
   "metadata": {},
   "outputs": [],
   "source": [
    " Schedule_Info"
   ]
  },
  {
   "cell_type": "code",
   "execution_count": null,
   "metadata": {},
   "outputs": [],
   "source": [
    "Schedule_DF=pd.DataFrame(Schedule_Info)"
   ]
  },
  {
   "cell_type": "code",
   "execution_count": null,
   "metadata": {},
   "outputs": [],
   "source": [
    "Schedule_DF['id'].value_counts()"
   ]
  },
  {
   "cell_type": "code",
   "execution_count": null,
   "metadata": {},
   "outputs": [],
   "source": [
    "Schedule_DF['actor'].value_counts()\n",
    "#Schedule_DF['actor'].value_counts().max()    # 1"
   ]
  },
  {
   "cell_type": "markdown",
   "metadata": {},
   "source": [
    "## Create For Loop to organize information of Slots"
   ]
  },
  {
   "cell_type": "code",
   "execution_count": null,
   "metadata": {},
   "outputs": [],
   "source": [
    "Slot_Info=[]\n",
    "for Slots in ndjson.loads(Slot_re.text):\n",
    "    Detail_Info={'id':Slots['schedule']['reference'].split('/')[1],\n",
    "                 'Status':Slots['status'],\n",
    "                 'Start':Slots['start'],\n",
    "                 'End':Slots['end'],\n",
    "                 'ValueInteger':Slots['extension'][1]['valueInteger']\n",
    "         }\n",
    "    Slot_Info.append(Detail_Info)"
   ]
  },
  {
   "cell_type": "code",
   "execution_count": null,
   "metadata": {},
   "outputs": [],
   "source": [
    " Slot_Info"
   ]
  },
  {
   "cell_type": "code",
   "execution_count": null,
   "metadata": {},
   "outputs": [],
   "source": [
    "Slot_DF=pd.DataFrame(Slot_Info)"
   ]
  },
  {
   "cell_type": "code",
   "execution_count": null,
   "metadata": {},
   "outputs": [],
   "source": [
    "Slot_DF"
   ]
  },
  {
   "cell_type": "code",
   "execution_count": null,
   "metadata": {},
   "outputs": [],
   "source": [
    "Slot_DF['id'].value_counts()\n",
    "#Slot_DF['id'].value_counts().max()    ## 1\n",
    "#The id is the unique value"
   ]
  },
  {
   "cell_type": "code",
   "execution_count": null,
   "metadata": {},
   "outputs": [],
   "source": [
    "Slot_DF['Start']=[datetime.strptime(x, '%Y-%m-%dT%H:%M:%S.%fZ') for x in Slot_DF['Start']]"
   ]
  },
  {
   "cell_type": "code",
   "execution_count": null,
   "metadata": {},
   "outputs": [],
   "source": [
    "Slot_DF['End']=[datetime.strptime(x, '%Y-%m-%dT%H:%M:%S.%fZ') for x in Slot_DF['End']]"
   ]
  },
  {
   "cell_type": "code",
   "execution_count": null,
   "metadata": {},
   "outputs": [],
   "source": [
    "Slot_DF[['Status','ValueInteger']].drop_duplicates()\n",
    "#Slot_DF['Status'].value_counts()\n",
    "#Slot_DF['ValueInteger'].value_counts()\n",
    "#Based on the result, the busy means 0, free means 1"
   ]
  },
  {
   "cell_type": "code",
   "execution_count": null,
   "metadata": {},
   "outputs": [],
   "source": [
    "Slot_DF[['Start','End']].drop_duplicates()"
   ]
  },
  {
   "cell_type": "markdown",
   "metadata": {},
   "source": [
    "# Combine 3 DataFrames Together"
   ]
  },
  {
   "cell_type": "markdown",
   "metadata": {},
   "source": [
    "The location files are the all locations of CVS\n",
    "The Schedule tels service type and locations(all of them the service types are same)\n",
    "The slot file tells the free or busy "
   ]
  },
  {
   "cell_type": "code",
   "execution_count": null,
   "metadata": {},
   "outputs": [],
   "source": [
    "Location_DF"
   ]
  },
  {
   "cell_type": "code",
   "execution_count": null,
   "metadata": {
    "scrolled": false
   },
   "outputs": [],
   "source": [
    "Schedule_DF"
   ]
  },
  {
   "cell_type": "code",
   "execution_count": null,
   "metadata": {},
   "outputs": [],
   "source": [
    "Slot_DF"
   ]
  },
  {
   "cell_type": "code",
   "execution_count": null,
   "metadata": {},
   "outputs": [],
   "source": [
    "Schedule_DF['id'].isin(Slot_DF['id']).value_counts()\n",
    "#True    9564\n",
    "#Name: id, dtype: int64"
   ]
  },
  {
   "cell_type": "code",
   "execution_count": null,
   "metadata": {},
   "outputs": [],
   "source": [
    "Location_DF.merge(Schedule_DF,how='left',left_on='id',right_on='actor')"
   ]
  },
  {
   "cell_type": "code",
   "execution_count": null,
   "metadata": {},
   "outputs": [],
   "source": [
    "Schedule_DF.merge(Slot_DF,how='inner',left_on='id',right_on='id')"
   ]
  },
  {
   "cell_type": "code",
   "execution_count": null,
   "metadata": {},
   "outputs": [],
   "source": [
    "DF1=Location_DF.merge(Schedule_DF,how='left',left_on='id',right_on='actor')\n",
    "DF=DF1.merge(Slot_DF,how='inner',left_on='id_y',right_on='id')"
   ]
  },
  {
   "cell_type": "code",
   "execution_count": null,
   "metadata": {},
   "outputs": [],
   "source": [
    "DF=DF.drop(columns=['id_x','id_y'])"
   ]
  },
  {
   "cell_type": "code",
   "execution_count": null,
   "metadata": {},
   "outputs": [],
   "source": [
    "DF.to_csv('CVS_File.csv',index=False)"
   ]
  },
  {
   "cell_type": "markdown",
   "metadata": {},
   "source": [
    "# Analysis"
   ]
  },
  {
   "cell_type": "code",
   "execution_count": null,
   "metadata": {},
   "outputs": [],
   "source": [
    "DF"
   ]
  },
  {
   "cell_type": "code",
   "execution_count": null,
   "metadata": {},
   "outputs": [],
   "source": [
    "pd.pivot_table(DF,values='id',index='State',columns='Status',aggfunc='count')"
   ]
  },
  {
   "cell_type": "markdown",
   "metadata": {},
   "source": [
    "# Refresh Data Every 15 minutes "
   ]
  },
  {
   "cell_type": "code",
   "execution_count": null,
   "metadata": {},
   "outputs": [],
   "source": [
    "import time"
   ]
  },
  {
   "cell_type": "code",
   "execution_count": null,
   "metadata": {},
   "outputs": [],
   "source": [
    "# This part is to check if the number of locations changes. So I set up 15 minutes break for each loop. \n",
    "#Which took about 10 hours total. All of the output are 9737 so in total, there is only 9737 locations."
   ]
  },
  {
   "cell_type": "code",
   "execution_count": null,
   "metadata": {},
   "outputs": [],
   "source": [
    "i=1\n",
    "while i<50:\n",
    "    Location_re=requests.get(df.loc['Location'][\"Url\"])\n",
    "    Schedule_re=requests.get(df.loc['Schedule'][\"Url\"])\n",
    "    Slot_re=requests.get(df.loc['Slot'][\"Url\"])\n",
    "    \n",
    "    Locations_Info=[]\n",
    "    for Locations in ndjson.loads(Location_re.text):\n",
    "        Detail_Info={'id':Locations['id'],\n",
    "                     'Line':Locations['address']['line'][0],\n",
    "                     'City':Locations['address']['city'],\n",
    "                     'State':Locations['address']['state'],\n",
    "                     'PostalCode':Locations['address']['postalCode'],\n",
    "                    }\n",
    "        Locations_Info.append(Detail_Info)\n",
    "    \n",
    "    Schedule_Info=[]\n",
    "    for Schedules in ndjson.loads(Schedule_re.text):\n",
    "        Detail_Info={'id':Schedules['id'],\n",
    "                     'actor':Schedules['actor'][0]['reference'].split('/')[1]\n",
    "                    }\n",
    "        Schedule_Info.append(Detail_Info)    \n",
    "    \n",
    "    Slot_Info=[]\n",
    "    for Slots in ndjson.loads(Slot_re.text):\n",
    "        Detail_Info={'id':Slots['schedule']['reference'].split('/')[1],\n",
    "                     'Status':Slots['status'],\n",
    "                     'Start':Slots['start'],\n",
    "                     'End':Slots['end'],\n",
    "                     'ValueInteger':Slots['extension'][1]['valueInteger']\n",
    "                    }\n",
    "        Slot_Info.append(Detail_Info)\n",
    "    \n",
    "    \n",
    "    Location_DF=pd.DataFrame(Locations_Info)\n",
    "    Schedule_DF=pd.DataFrame(Schedule_Info)\n",
    "    Slot_DF=pd.DataFrame(Slot_Info)\n",
    "    DF1=Location_DF.merge(Schedule_DF,how='left',left_on='id',right_on='actor')\n",
    "    DF=DF1.merge(Slot_DF,how='inner',left_on='id_y',right_on='id')\n",
    "    DF=DF.drop(columns=['id_x','id_y'])\n",
    "    DF.to_csv(\"{}_file_at_time_{}.csv\".format(i,datetime.now().time().strftime(\"%H_%M_%S\")),index=False)\n",
    "\n",
    "    \n",
    "    print(i)\n",
    "    print(\"There are {} different locations\".format(Location_DF.shape[0]))\n",
    "    time.sleep(900)\n",
    "    i+=1\n"
   ]
  },
  {
   "cell_type": "code",
   "execution_count": null,
   "metadata": {},
   "outputs": [],
   "source": [
    "datetime.now()"
   ]
  },
  {
   "cell_type": "code",
   "execution_count": null,
   "metadata": {},
   "outputs": [],
   "source": [
    "\"DF_at {}\".format(datetime.now().time().strftime(\"%H:%M\"))"
   ]
  },
  {
   "cell_type": "code",
   "execution_count": null,
   "metadata": {},
   "outputs": [],
   "source": [
    "print(\"There are {} different locations\".format(Location_DF.shape[0]))"
   ]
  },
  {
   "cell_type": "markdown",
   "metadata": {},
   "source": [
    "# Connect to PostgreSQL"
   ]
  },
  {
   "cell_type": "code",
   "execution_count": 156,
   "metadata": {},
   "outputs": [],
   "source": [
    "import psycopg2"
   ]
  },
  {
   "cell_type": "code",
   "execution_count": 157,
   "metadata": {},
   "outputs": [],
   "source": [
    "connection=psycopg2.connect(user=\"postgres\",password=\"152068\",host=\"localhost\",port=\"5440\",dbname=\"CVS Data \")"
   ]
  },
  {
   "cell_type": "code",
   "execution_count": 158,
   "metadata": {},
   "outputs": [],
   "source": [
    "cur=connection.cursor()"
   ]
  },
  {
   "cell_type": "code",
   "execution_count": null,
   "metadata": {},
   "outputs": [],
   "source": [
    "#connection.close"
   ]
  },
  {
   "cell_type": "markdown",
   "metadata": {},
   "source": [
    "## Create Tables"
   ]
  },
  {
   "cell_type": "code",
   "execution_count": 119,
   "metadata": {},
   "outputs": [],
   "source": [
    "# It is an example\n",
    "create_table_query = '''CREATE TABLE Location\n",
    "          (Id             INT PRIMARY KEY     NOT NULL,\n",
    "           Line           TEXT    NOT NULL,\n",
    "           City           TEXT,\n",
    "           State          TEXT,\n",
    "           PostalCode     INT); '''"
   ]
  },
  {
   "cell_type": "code",
   "execution_count": 120,
   "metadata": {},
   "outputs": [],
   "source": [
    "cur.execute(create_table_query)"
   ]
  },
  {
   "cell_type": "markdown",
   "metadata": {},
   "source": [
    "## Insert Data To Table"
   ]
  },
  {
   "cell_type": "code",
   "execution_count": 121,
   "metadata": {},
   "outputs": [],
   "source": [
    "insert_query='''INSERT INTO location VALUES (%s,%s,%s,%s,%s)'''"
   ]
  },
  {
   "cell_type": "code",
   "execution_count": 122,
   "metadata": {},
   "outputs": [],
   "source": [
    "for i in Location_DF.iloc:\n",
    "    cur.execute(insert_query,i)"
   ]
  },
  {
   "cell_type": "code",
   "execution_count": 125,
   "metadata": {},
   "outputs": [],
   "source": [
    "connection.commit()"
   ]
  },
  {
   "cell_type": "markdown",
   "metadata": {},
   "source": [
    "## Extract Data"
   ]
  },
  {
   "cell_type": "code",
   "execution_count": 173,
   "metadata": {},
   "outputs": [],
   "source": [
    "#query=\"select * from Location\"\n",
    "query=\"select state, count(*) from location group by state\""
   ]
  },
  {
   "cell_type": "code",
   "execution_count": 174,
   "metadata": {},
   "outputs": [],
   "source": [
    "cur.execute(query)"
   ]
  },
  {
   "cell_type": "code",
   "execution_count": 175,
   "metadata": {},
   "outputs": [],
   "source": [
    "#connection.commit()"
   ]
  },
  {
   "cell_type": "code",
   "execution_count": 176,
   "metadata": {},
   "outputs": [],
   "source": [
    "#Print the first row only\n",
    "#cur.fetchone()"
   ]
  },
  {
   "cell_type": "code",
   "execution_count": 177,
   "metadata": {},
   "outputs": [
    {
     "data": {
      "text/plain": [
       "[('CA', 1155),\n",
       " ('NH', 47),\n",
       " ('OR', 22),\n",
       " ('ND', 6),\n",
       " ('TX', 835),\n",
       " ('PR', 22),\n",
       " ('NV', 91),\n",
       " ('KY', 81),\n",
       " ('OH', 385),\n",
       " ('NY', 556),\n",
       " ('HI', 69),\n",
       " ('NM', 24),\n",
       " ('MS', 57),\n",
       " ('IN', 327),\n",
       " ('DC', 59),\n",
       " ('NE', 30),\n",
       " ('WV', 57),\n",
       " ('MO', 197),\n",
       " ('FL', 834),\n",
       " ('ME', 25),\n",
       " ('AR', 23),\n",
       " ('WI', 80),\n",
       " ('NC', 361),\n",
       " ('CT', 178),\n",
       " ('SD', 3),\n",
       " ('OK', 75),\n",
       " ('RI', 61),\n",
       " ('ID', 3),\n",
       " ('GA', 339),\n",
       " ('MN', 128),\n",
       " ('PA', 475),\n",
       " ('AK', 3),\n",
       " ('MD', 224),\n",
       " ('WY', 2),\n",
       " ('LA', 134),\n",
       " ('MT', 14),\n",
       " ('IL', 372),\n",
       " ('TN', 158),\n",
       " ('WA', 45),\n",
       " ('MI', 296),\n",
       " ('NJ', 342),\n",
       " ('MA', 400),\n",
       " ('AL', 179),\n",
       " ('UT', 29),\n",
       " ('IA', 38),\n",
       " ('VT', 9),\n",
       " ('CO', 51),\n",
       " ('SC', 206),\n",
       " ('VA', 346),\n",
       " ('DE', 20),\n",
       " ('AZ', 194),\n",
       " ('KS', 53)]"
      ]
     },
     "execution_count": 177,
     "metadata": {},
     "output_type": "execute_result"
    }
   ],
   "source": [
    "#Print all rows if we do not run fetchone\n",
    "cur.fetchall()"
   ]
  },
  {
   "cell_type": "code",
   "execution_count": null,
   "metadata": {},
   "outputs": [],
   "source": []
  }
 ],
 "metadata": {
  "kernelspec": {
   "display_name": "Python 3",
   "language": "python",
   "name": "python3"
  },
  "language_info": {
   "codemirror_mode": {
    "name": "ipython",
    "version": 3
   },
   "file_extension": ".py",
   "mimetype": "text/x-python",
   "name": "python",
   "nbconvert_exporter": "python",
   "pygments_lexer": "ipython3",
   "version": "3.7.4"
  },
  "toc": {
   "base_numbering": 1,
   "nav_menu": {},
   "number_sections": true,
   "sideBar": true,
   "skip_h1_title": false,
   "title_cell": "Table of Contents",
   "title_sidebar": "Contents",
   "toc_cell": false,
   "toc_position": {
    "height": "calc(100% - 180px)",
    "left": "10px",
    "top": "150px",
    "width": "213px"
   },
   "toc_section_display": true,
   "toc_window_display": true
  }
 },
 "nbformat": 4,
 "nbformat_minor": 2
}
